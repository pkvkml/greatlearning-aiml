{
 "cells": [
  {
   "cell_type": "markdown",
   "metadata": {},
   "source": [
    "# Theory of Statistics"
   ]
  },
  {
   "cell_type": "markdown",
   "metadata": {},
   "source": [
    "# Mean of a dataframe:"
   ]
  },
  {
   "cell_type": "code",
   "execution_count": 23,
   "metadata": {},
   "outputs": [
    {
     "data": {
      "text/html": [
       "<div>\n",
       "<style scoped>\n",
       "    .dataframe tbody tr th:only-of-type {\n",
       "        vertical-align: middle;\n",
       "    }\n",
       "\n",
       "    .dataframe tbody tr th {\n",
       "        vertical-align: top;\n",
       "    }\n",
       "\n",
       "    .dataframe thead th {\n",
       "        text-align: right;\n",
       "    }\n",
       "</style>\n",
       "<table border=\"1\" class=\"dataframe\">\n",
       "  <thead>\n",
       "    <tr style=\"text-align: right;\">\n",
       "      <th></th>\n",
       "      <th>Name</th>\n",
       "      <th>Score1</th>\n",
       "      <th>Score2</th>\n",
       "    </tr>\n",
       "  </thead>\n",
       "  <tbody>\n",
       "    <tr>\n",
       "      <th>0</th>\n",
       "      <td>Alisa</td>\n",
       "      <td>62</td>\n",
       "      <td>89</td>\n",
       "    </tr>\n",
       "    <tr>\n",
       "      <th>1</th>\n",
       "      <td>Bobby</td>\n",
       "      <td>47</td>\n",
       "      <td>87</td>\n",
       "    </tr>\n",
       "    <tr>\n",
       "      <th>2</th>\n",
       "      <td>Cathrine</td>\n",
       "      <td>55</td>\n",
       "      <td>67</td>\n",
       "    </tr>\n",
       "    <tr>\n",
       "      <th>3</th>\n",
       "      <td>Madonna</td>\n",
       "      <td>74</td>\n",
       "      <td>55</td>\n",
       "    </tr>\n",
       "    <tr>\n",
       "      <th>4</th>\n",
       "      <td>Rocky</td>\n",
       "      <td>31</td>\n",
       "      <td>47</td>\n",
       "    </tr>\n",
       "    <tr>\n",
       "      <th>5</th>\n",
       "      <td>Sebastian</td>\n",
       "      <td>77</td>\n",
       "      <td>72</td>\n",
       "    </tr>\n",
       "    <tr>\n",
       "      <th>6</th>\n",
       "      <td>Jaqluine</td>\n",
       "      <td>85</td>\n",
       "      <td>76</td>\n",
       "    </tr>\n",
       "    <tr>\n",
       "      <th>7</th>\n",
       "      <td>Rahul</td>\n",
       "      <td>63</td>\n",
       "      <td>79</td>\n",
       "    </tr>\n",
       "    <tr>\n",
       "      <th>8</th>\n",
       "      <td>David</td>\n",
       "      <td>42</td>\n",
       "      <td>44</td>\n",
       "    </tr>\n",
       "    <tr>\n",
       "      <th>9</th>\n",
       "      <td>Andrew</td>\n",
       "      <td>32</td>\n",
       "      <td>92</td>\n",
       "    </tr>\n",
       "    <tr>\n",
       "      <th>10</th>\n",
       "      <td>Ajay</td>\n",
       "      <td>71</td>\n",
       "      <td>99</td>\n",
       "    </tr>\n",
       "    <tr>\n",
       "      <th>11</th>\n",
       "      <td>Teresa</td>\n",
       "      <td>57</td>\n",
       "      <td>69</td>\n",
       "    </tr>\n",
       "  </tbody>\n",
       "</table>\n",
       "</div>"
      ],
      "text/plain": [
       "         Name  Score1  Score2\n",
       "0       Alisa      62      89\n",
       "1       Bobby      47      87\n",
       "2    Cathrine      55      67\n",
       "3     Madonna      74      55\n",
       "4       Rocky      31      47\n",
       "5   Sebastian      77      72\n",
       "6    Jaqluine      85      76\n",
       "7       Rahul      63      79\n",
       "8       David      42      44\n",
       "9      Andrew      32      92\n",
       "10       Ajay      71      99\n",
       "11     Teresa      57      69"
      ]
     },
     "execution_count": 23,
     "metadata": {},
     "output_type": "execute_result"
    }
   ],
   "source": [
    "import pandas as pd\n",
    "import numpy as np\n",
    " \n",
    "#Create a DataFrame\n",
    "d = {\n",
    "    'Name':['Alisa','Bobby','Cathrine','Madonna','Rocky','Sebastian','Jaqluine',\n",
    "   'Rahul','David','Andrew','Ajay','Teresa'],\n",
    "   'Score1':[62,47,55,74,31,77,85,63,42,32,71,57],\n",
    "   'Score2':[89,87,67,55,47,72,76,79,44,92,99,69]}\n",
    " \n",
    " \n",
    "df = pd.DataFrame(d)\n",
    "df"
   ]
  },
  {
   "cell_type": "markdown",
   "metadata": {},
   "source": [
    "# mean of the dataframe"
   ]
  },
  {
   "cell_type": "code",
   "execution_count": 24,
   "metadata": {},
   "outputs": [
    {
     "data": {
      "text/plain": [
       "Score1    58.0\n",
       "Score2    73.0\n",
       "dtype: float64"
      ]
     },
     "execution_count": 24,
     "metadata": {},
     "output_type": "execute_result"
    }
   ],
   "source": [
    "df.mean()"
   ]
  },
  {
   "cell_type": "markdown",
   "metadata": {},
   "source": [
    "# Column Mean of the dataframe:"
   ]
  },
  {
   "cell_type": "code",
   "execution_count": 25,
   "metadata": {},
   "outputs": [
    {
     "data": {
      "text/plain": [
       "Score1    58.0\n",
       "Score2    73.0\n",
       "dtype: float64"
      ]
     },
     "execution_count": 25,
     "metadata": {},
     "output_type": "execute_result"
    }
   ],
   "source": [
    "df.mean(axis=0)"
   ]
  },
  {
   "cell_type": "raw",
   "metadata": {},
   "source": [
    "axis=0 argument calculates the column wise mean of the dataframe"
   ]
  },
  {
   "cell_type": "markdown",
   "metadata": {},
   "source": [
    "# Row Mean of the dataframe:"
   ]
  },
  {
   "cell_type": "code",
   "execution_count": 26,
   "metadata": {},
   "outputs": [
    {
     "data": {
      "text/plain": [
       "0     75.5\n",
       "1     67.0\n",
       "2     61.0\n",
       "3     64.5\n",
       "4     39.0\n",
       "5     74.5\n",
       "6     80.5\n",
       "7     71.0\n",
       "8     43.0\n",
       "9     62.0\n",
       "10    85.0\n",
       "11    63.0\n",
       "dtype: float64"
      ]
     },
     "execution_count": 26,
     "metadata": {},
     "output_type": "execute_result"
    }
   ],
   "source": [
    "df.mean(axis=1)"
   ]
  },
  {
   "cell_type": "raw",
   "metadata": {},
   "source": [
    "axis=1 argument calculates the row wise mean of the dataframe"
   ]
  },
  {
   "cell_type": "markdown",
   "metadata": {},
   "source": [
    "# Lets Calculate the mean of the specific Column"
   ]
  },
  {
   "cell_type": "code",
   "execution_count": 27,
   "metadata": {},
   "outputs": [
    {
     "data": {
      "text/plain": [
       "58.0"
      ]
     },
     "execution_count": 27,
     "metadata": {},
     "output_type": "execute_result"
    }
   ],
   "source": [
    "df.loc[:,\"Score1\"].mean()"
   ]
  },
  {
   "cell_type": "markdown",
   "metadata": {},
   "source": [
    "# In class lab exercise :\n",
    "Calculate the mean of the column \"score2\"?"
   ]
  },
  {
   "cell_type": "markdown",
   "metadata": {},
   "source": [
    "# Median Function in Python"
   ]
  },
  {
   "cell_type": "markdown",
   "metadata": {},
   "source": [
    "# Lets calculate Simple median function"
   ]
  },
  {
   "cell_type": "code",
   "execution_count": 9,
   "metadata": {},
   "outputs": [],
   "source": [
    "import statistics"
   ]
  },
  {
   "cell_type": "code",
   "execution_count": 10,
   "metadata": {},
   "outputs": [
    {
     "name": "stdout",
     "output_type": "stream",
     "text": [
      "6.5\n",
      "5\n"
     ]
    }
   ],
   "source": [
    "print(statistics.median([1,9,5,6,8,7]))\n",
    "print(statistics.median([4,-11,-5,16,5,7,9]))"
   ]
  },
  {
   "cell_type": "markdown",
   "metadata": {},
   "source": [
    "# Median of a dataframe:"
   ]
  },
  {
   "cell_type": "code",
   "execution_count": 28,
   "metadata": {},
   "outputs": [
    {
     "data": {
      "text/html": [
       "<div>\n",
       "<style scoped>\n",
       "    .dataframe tbody tr th:only-of-type {\n",
       "        vertical-align: middle;\n",
       "    }\n",
       "\n",
       "    .dataframe tbody tr th {\n",
       "        vertical-align: top;\n",
       "    }\n",
       "\n",
       "    .dataframe thead th {\n",
       "        text-align: right;\n",
       "    }\n",
       "</style>\n",
       "<table border=\"1\" class=\"dataframe\">\n",
       "  <thead>\n",
       "    <tr style=\"text-align: right;\">\n",
       "      <th></th>\n",
       "      <th>Name</th>\n",
       "      <th>Score1</th>\n",
       "      <th>Score2</th>\n",
       "      <th>Score3</th>\n",
       "    </tr>\n",
       "  </thead>\n",
       "  <tbody>\n",
       "    <tr>\n",
       "      <th>0</th>\n",
       "      <td>Alisa</td>\n",
       "      <td>62</td>\n",
       "      <td>89</td>\n",
       "      <td>56</td>\n",
       "    </tr>\n",
       "    <tr>\n",
       "      <th>1</th>\n",
       "      <td>Bobby</td>\n",
       "      <td>47</td>\n",
       "      <td>87</td>\n",
       "      <td>86</td>\n",
       "    </tr>\n",
       "    <tr>\n",
       "      <th>2</th>\n",
       "      <td>Cathrine</td>\n",
       "      <td>55</td>\n",
       "      <td>67</td>\n",
       "      <td>77</td>\n",
       "    </tr>\n",
       "    <tr>\n",
       "      <th>3</th>\n",
       "      <td>Madonna</td>\n",
       "      <td>74</td>\n",
       "      <td>55</td>\n",
       "      <td>45</td>\n",
       "    </tr>\n",
       "    <tr>\n",
       "      <th>4</th>\n",
       "      <td>Rocky</td>\n",
       "      <td>31</td>\n",
       "      <td>47</td>\n",
       "      <td>73</td>\n",
       "    </tr>\n",
       "    <tr>\n",
       "      <th>5</th>\n",
       "      <td>Sebastian</td>\n",
       "      <td>77</td>\n",
       "      <td>72</td>\n",
       "      <td>62</td>\n",
       "    </tr>\n",
       "    <tr>\n",
       "      <th>6</th>\n",
       "      <td>Jaqluine</td>\n",
       "      <td>85</td>\n",
       "      <td>76</td>\n",
       "      <td>74</td>\n",
       "    </tr>\n",
       "    <tr>\n",
       "      <th>7</th>\n",
       "      <td>Rahul</td>\n",
       "      <td>63</td>\n",
       "      <td>79</td>\n",
       "      <td>89</td>\n",
       "    </tr>\n",
       "    <tr>\n",
       "      <th>8</th>\n",
       "      <td>David</td>\n",
       "      <td>42</td>\n",
       "      <td>44</td>\n",
       "      <td>71</td>\n",
       "    </tr>\n",
       "    <tr>\n",
       "      <th>9</th>\n",
       "      <td>Andrew</td>\n",
       "      <td>32</td>\n",
       "      <td>92</td>\n",
       "      <td>67</td>\n",
       "    </tr>\n",
       "    <tr>\n",
       "      <th>10</th>\n",
       "      <td>Ajay</td>\n",
       "      <td>71</td>\n",
       "      <td>99</td>\n",
       "      <td>97</td>\n",
       "    </tr>\n",
       "    <tr>\n",
       "      <th>11</th>\n",
       "      <td>Teresa</td>\n",
       "      <td>57</td>\n",
       "      <td>69</td>\n",
       "      <td>68</td>\n",
       "    </tr>\n",
       "  </tbody>\n",
       "</table>\n",
       "</div>"
      ],
      "text/plain": [
       "         Name  Score1  Score2  Score3\n",
       "0       Alisa      62      89      56\n",
       "1       Bobby      47      87      86\n",
       "2    Cathrine      55      67      77\n",
       "3     Madonna      74      55      45\n",
       "4       Rocky      31      47      73\n",
       "5   Sebastian      77      72      62\n",
       "6    Jaqluine      85      76      74\n",
       "7       Rahul      63      79      89\n",
       "8       David      42      44      71\n",
       "9      Andrew      32      92      67\n",
       "10       Ajay      71      99      97\n",
       "11     Teresa      57      69      68"
      ]
     },
     "execution_count": 28,
     "metadata": {},
     "output_type": "execute_result"
    }
   ],
   "source": [
    "import pandas as pd\n",
    "import numpy as np\n",
    " \n",
    "#Create a DataFrame\n",
    "d = {\n",
    "    'Name':['Alisa','Bobby','Cathrine','Madonna','Rocky','Sebastian','Jaqluine',\n",
    "   'Rahul','David','Andrew','Ajay','Teresa'],\n",
    "   'Score1':[62,47,55,74,31,77,85,63,42,32,71,57],\n",
    "   'Score2':[89,87,67,55,47,72,76,79,44,92,99,69],\n",
    "   'Score3':[56,86,77,45,73,62,74,89,71,67,97,68]}\n",
    " \n",
    "df1 = pd.DataFrame(d)\n",
    "df1"
   ]
  },
  {
   "cell_type": "code",
   "execution_count": 30,
   "metadata": {},
   "outputs": [
    {
     "data": {
      "text/plain": [
       "Score1    59.5\n",
       "Score2    74.0\n",
       "Score3    72.0\n",
       "dtype: float64"
      ]
     },
     "execution_count": 30,
     "metadata": {},
     "output_type": "execute_result"
    }
   ],
   "source": [
    "df1.median()"
   ]
  },
  {
   "cell_type": "raw",
   "metadata": {},
   "source": [
    "the above code will calculate the median of the dataframe across columns"
   ]
  },
  {
   "cell_type": "markdown",
   "metadata": {},
   "source": [
    "# Column Median of the dataframe:"
   ]
  },
  {
   "cell_type": "code",
   "execution_count": 31,
   "metadata": {},
   "outputs": [
    {
     "data": {
      "text/plain": [
       "Score1    59.5\n",
       "Score2    74.0\n",
       "Score3    72.0\n",
       "dtype: float64"
      ]
     },
     "execution_count": 31,
     "metadata": {},
     "output_type": "execute_result"
    }
   ],
   "source": [
    "df1.median(axis=0)"
   ]
  },
  {
   "cell_type": "raw",
   "metadata": {},
   "source": [
    "axis=0 argument calculates the column wise median of the dataframe"
   ]
  },
  {
   "cell_type": "markdown",
   "metadata": {},
   "source": [
    "# Calculate the median of the specific Column"
   ]
  },
  {
   "cell_type": "code",
   "execution_count": 32,
   "metadata": {},
   "outputs": [
    {
     "data": {
      "text/plain": [
       "59.5"
      ]
     },
     "execution_count": 32,
     "metadata": {},
     "output_type": "execute_result"
    }
   ],
   "source": [
    "df1.loc[:,\"Score1\"].median()"
   ]
  },
  {
   "cell_type": "raw",
   "metadata": {},
   "source": [
    "the above code calculates the median of the “Score1” column"
   ]
  },
  {
   "cell_type": "markdown",
   "metadata": {},
   "source": [
    "# # In class lab exercise :\n",
    "Calculate the median of the column \"score2\"?"
   ]
  },
  {
   "cell_type": "markdown",
   "metadata": {},
   "source": [
    "# Mode Function in Python pandas"
   ]
  },
  {
   "cell_type": "markdown",
   "metadata": {},
   "source": [
    "# Simple mode function in python"
   ]
  },
  {
   "cell_type": "code",
   "execution_count": 16,
   "metadata": {},
   "outputs": [],
   "source": [
    "import statistics"
   ]
  },
  {
   "cell_type": "code",
   "execution_count": 17,
   "metadata": {},
   "outputs": [
    {
     "name": "stdout",
     "output_type": "stream",
     "text": [
      "5\n",
      "cat\n"
     ]
    }
   ],
   "source": [
    "print(statistics.mode([1,5,5,7,5,6,8,7]))\n",
    "print(statistics.mode(['lion', 'cat', 'cat','dog','tiger']))"
   ]
  },
  {
   "cell_type": "markdown",
   "metadata": {},
   "source": [
    "# Mode of a dataframe:"
   ]
  },
  {
   "cell_type": "code",
   "execution_count": 33,
   "metadata": {},
   "outputs": [
    {
     "data": {
      "text/html": [
       "<div>\n",
       "<style scoped>\n",
       "    .dataframe tbody tr th:only-of-type {\n",
       "        vertical-align: middle;\n",
       "    }\n",
       "\n",
       "    .dataframe tbody tr th {\n",
       "        vertical-align: top;\n",
       "    }\n",
       "\n",
       "    .dataframe thead th {\n",
       "        text-align: right;\n",
       "    }\n",
       "</style>\n",
       "<table border=\"1\" class=\"dataframe\">\n",
       "  <thead>\n",
       "    <tr style=\"text-align: right;\">\n",
       "      <th></th>\n",
       "      <th>Name</th>\n",
       "      <th>Score1</th>\n",
       "      <th>Score2</th>\n",
       "      <th>Score3</th>\n",
       "    </tr>\n",
       "  </thead>\n",
       "  <tbody>\n",
       "    <tr>\n",
       "      <th>0</th>\n",
       "      <td>Alisa</td>\n",
       "      <td>62</td>\n",
       "      <td>89</td>\n",
       "      <td>56</td>\n",
       "    </tr>\n",
       "    <tr>\n",
       "      <th>1</th>\n",
       "      <td>Bobby</td>\n",
       "      <td>47</td>\n",
       "      <td>87</td>\n",
       "      <td>86</td>\n",
       "    </tr>\n",
       "    <tr>\n",
       "      <th>2</th>\n",
       "      <td>Cathrine</td>\n",
       "      <td>55</td>\n",
       "      <td>67</td>\n",
       "      <td>77</td>\n",
       "    </tr>\n",
       "    <tr>\n",
       "      <th>3</th>\n",
       "      <td>Madonna</td>\n",
       "      <td>74</td>\n",
       "      <td>55</td>\n",
       "      <td>45</td>\n",
       "    </tr>\n",
       "    <tr>\n",
       "      <th>4</th>\n",
       "      <td>Rocky</td>\n",
       "      <td>47</td>\n",
       "      <td>47</td>\n",
       "      <td>73</td>\n",
       "    </tr>\n",
       "    <tr>\n",
       "      <th>5</th>\n",
       "      <td>Sebastian</td>\n",
       "      <td>77</td>\n",
       "      <td>72</td>\n",
       "      <td>62</td>\n",
       "    </tr>\n",
       "    <tr>\n",
       "      <th>6</th>\n",
       "      <td>Jaqluine</td>\n",
       "      <td>85</td>\n",
       "      <td>76</td>\n",
       "      <td>74</td>\n",
       "    </tr>\n",
       "    <tr>\n",
       "      <th>7</th>\n",
       "      <td>Rahul</td>\n",
       "      <td>63</td>\n",
       "      <td>79</td>\n",
       "      <td>89</td>\n",
       "    </tr>\n",
       "    <tr>\n",
       "      <th>8</th>\n",
       "      <td>David</td>\n",
       "      <td>42</td>\n",
       "      <td>44</td>\n",
       "      <td>71</td>\n",
       "    </tr>\n",
       "    <tr>\n",
       "      <th>9</th>\n",
       "      <td>Andrew</td>\n",
       "      <td>32</td>\n",
       "      <td>67</td>\n",
       "      <td>67</td>\n",
       "    </tr>\n",
       "    <tr>\n",
       "      <th>10</th>\n",
       "      <td>Ajay</td>\n",
       "      <td>71</td>\n",
       "      <td>99</td>\n",
       "      <td>97</td>\n",
       "    </tr>\n",
       "    <tr>\n",
       "      <th>11</th>\n",
       "      <td>Teresa</td>\n",
       "      <td>57</td>\n",
       "      <td>69</td>\n",
       "      <td>68</td>\n",
       "    </tr>\n",
       "  </tbody>\n",
       "</table>\n",
       "</div>"
      ],
      "text/plain": [
       "         Name  Score1  Score2  Score3\n",
       "0       Alisa      62      89      56\n",
       "1       Bobby      47      87      86\n",
       "2    Cathrine      55      67      77\n",
       "3     Madonna      74      55      45\n",
       "4       Rocky      47      47      73\n",
       "5   Sebastian      77      72      62\n",
       "6    Jaqluine      85      76      74\n",
       "7       Rahul      63      79      89\n",
       "8       David      42      44      71\n",
       "9      Andrew      32      67      67\n",
       "10       Ajay      71      99      97\n",
       "11     Teresa      57      69      68"
      ]
     },
     "execution_count": 33,
     "metadata": {},
     "output_type": "execute_result"
    }
   ],
   "source": [
    "import pandas as pd\n",
    "import numpy as np\n",
    " \n",
    "#Create a DataFrame\n",
    "d = {\n",
    "    'Name':['Alisa','Bobby','Cathrine','Madonna','Rocky','Sebastian','Jaqluine',\n",
    "   'Rahul','David','Andrew','Ajay','Teresa'],\n",
    "   'Score1':[62,47,55,74,47,77,85,63,42,32,71,57],\n",
    "   'Score2':[89,87,67,55,47,72,76,79,44,67,99,69],\n",
    "   'Score3':[56,86,77,45,73,62,74,89,71,67,97,68]}\n",
    " \n",
    " \n",
    " \n",
    "df2 = pd.DataFrame(d)\n",
    "df2"
   ]
  },
  {
   "cell_type": "code",
   "execution_count": 35,
   "metadata": {},
   "outputs": [
    {
     "data": {
      "text/html": [
       "<div>\n",
       "<style scoped>\n",
       "    .dataframe tbody tr th:only-of-type {\n",
       "        vertical-align: middle;\n",
       "    }\n",
       "\n",
       "    .dataframe tbody tr th {\n",
       "        vertical-align: top;\n",
       "    }\n",
       "\n",
       "    .dataframe thead th {\n",
       "        text-align: right;\n",
       "    }\n",
       "</style>\n",
       "<table border=\"1\" class=\"dataframe\">\n",
       "  <thead>\n",
       "    <tr style=\"text-align: right;\">\n",
       "      <th></th>\n",
       "      <th>Name</th>\n",
       "      <th>Score1</th>\n",
       "      <th>Score2</th>\n",
       "      <th>Score3</th>\n",
       "    </tr>\n",
       "  </thead>\n",
       "  <tbody>\n",
       "    <tr>\n",
       "      <th>0</th>\n",
       "      <td>Ajay</td>\n",
       "      <td>47.0</td>\n",
       "      <td>67.0</td>\n",
       "      <td>45</td>\n",
       "    </tr>\n",
       "    <tr>\n",
       "      <th>1</th>\n",
       "      <td>Alisa</td>\n",
       "      <td>NaN</td>\n",
       "      <td>NaN</td>\n",
       "      <td>56</td>\n",
       "    </tr>\n",
       "    <tr>\n",
       "      <th>2</th>\n",
       "      <td>Andrew</td>\n",
       "      <td>NaN</td>\n",
       "      <td>NaN</td>\n",
       "      <td>62</td>\n",
       "    </tr>\n",
       "    <tr>\n",
       "      <th>3</th>\n",
       "      <td>Bobby</td>\n",
       "      <td>NaN</td>\n",
       "      <td>NaN</td>\n",
       "      <td>67</td>\n",
       "    </tr>\n",
       "    <tr>\n",
       "      <th>4</th>\n",
       "      <td>Cathrine</td>\n",
       "      <td>NaN</td>\n",
       "      <td>NaN</td>\n",
       "      <td>68</td>\n",
       "    </tr>\n",
       "    <tr>\n",
       "      <th>5</th>\n",
       "      <td>David</td>\n",
       "      <td>NaN</td>\n",
       "      <td>NaN</td>\n",
       "      <td>71</td>\n",
       "    </tr>\n",
       "    <tr>\n",
       "      <th>6</th>\n",
       "      <td>Jaqluine</td>\n",
       "      <td>NaN</td>\n",
       "      <td>NaN</td>\n",
       "      <td>73</td>\n",
       "    </tr>\n",
       "    <tr>\n",
       "      <th>7</th>\n",
       "      <td>Madonna</td>\n",
       "      <td>NaN</td>\n",
       "      <td>NaN</td>\n",
       "      <td>74</td>\n",
       "    </tr>\n",
       "    <tr>\n",
       "      <th>8</th>\n",
       "      <td>Rahul</td>\n",
       "      <td>NaN</td>\n",
       "      <td>NaN</td>\n",
       "      <td>77</td>\n",
       "    </tr>\n",
       "    <tr>\n",
       "      <th>9</th>\n",
       "      <td>Rocky</td>\n",
       "      <td>NaN</td>\n",
       "      <td>NaN</td>\n",
       "      <td>86</td>\n",
       "    </tr>\n",
       "    <tr>\n",
       "      <th>10</th>\n",
       "      <td>Sebastian</td>\n",
       "      <td>NaN</td>\n",
       "      <td>NaN</td>\n",
       "      <td>89</td>\n",
       "    </tr>\n",
       "    <tr>\n",
       "      <th>11</th>\n",
       "      <td>Teresa</td>\n",
       "      <td>NaN</td>\n",
       "      <td>NaN</td>\n",
       "      <td>97</td>\n",
       "    </tr>\n",
       "  </tbody>\n",
       "</table>\n",
       "</div>"
      ],
      "text/plain": [
       "         Name  Score1  Score2  Score3\n",
       "0        Ajay    47.0    67.0      45\n",
       "1       Alisa     NaN     NaN      56\n",
       "2      Andrew     NaN     NaN      62\n",
       "3       Bobby     NaN     NaN      67\n",
       "4    Cathrine     NaN     NaN      68\n",
       "5       David     NaN     NaN      71\n",
       "6    Jaqluine     NaN     NaN      73\n",
       "7     Madonna     NaN     NaN      74\n",
       "8       Rahul     NaN     NaN      77\n",
       "9       Rocky     NaN     NaN      86\n",
       "10  Sebastian     NaN     NaN      89\n",
       "11     Teresa     NaN     NaN      97"
      ]
     },
     "execution_count": 35,
     "metadata": {},
     "output_type": "execute_result"
    }
   ],
   "source": [
    "df2.mode()"
   ]
  },
  {
   "cell_type": "markdown",
   "metadata": {},
   "source": [
    "# Column Mode of the dataframe"
   ]
  },
  {
   "cell_type": "code",
   "execution_count": 36,
   "metadata": {},
   "outputs": [
    {
     "data": {
      "text/html": [
       "<div>\n",
       "<style scoped>\n",
       "    .dataframe tbody tr th:only-of-type {\n",
       "        vertical-align: middle;\n",
       "    }\n",
       "\n",
       "    .dataframe tbody tr th {\n",
       "        vertical-align: top;\n",
       "    }\n",
       "\n",
       "    .dataframe thead th {\n",
       "        text-align: right;\n",
       "    }\n",
       "</style>\n",
       "<table border=\"1\" class=\"dataframe\">\n",
       "  <thead>\n",
       "    <tr style=\"text-align: right;\">\n",
       "      <th></th>\n",
       "      <th>Name</th>\n",
       "      <th>Score1</th>\n",
       "      <th>Score2</th>\n",
       "      <th>Score3</th>\n",
       "    </tr>\n",
       "  </thead>\n",
       "  <tbody>\n",
       "    <tr>\n",
       "      <th>0</th>\n",
       "      <td>Ajay</td>\n",
       "      <td>47.0</td>\n",
       "      <td>67.0</td>\n",
       "      <td>45</td>\n",
       "    </tr>\n",
       "    <tr>\n",
       "      <th>1</th>\n",
       "      <td>Alisa</td>\n",
       "      <td>NaN</td>\n",
       "      <td>NaN</td>\n",
       "      <td>56</td>\n",
       "    </tr>\n",
       "    <tr>\n",
       "      <th>2</th>\n",
       "      <td>Andrew</td>\n",
       "      <td>NaN</td>\n",
       "      <td>NaN</td>\n",
       "      <td>62</td>\n",
       "    </tr>\n",
       "    <tr>\n",
       "      <th>3</th>\n",
       "      <td>Bobby</td>\n",
       "      <td>NaN</td>\n",
       "      <td>NaN</td>\n",
       "      <td>67</td>\n",
       "    </tr>\n",
       "    <tr>\n",
       "      <th>4</th>\n",
       "      <td>Cathrine</td>\n",
       "      <td>NaN</td>\n",
       "      <td>NaN</td>\n",
       "      <td>68</td>\n",
       "    </tr>\n",
       "    <tr>\n",
       "      <th>5</th>\n",
       "      <td>David</td>\n",
       "      <td>NaN</td>\n",
       "      <td>NaN</td>\n",
       "      <td>71</td>\n",
       "    </tr>\n",
       "    <tr>\n",
       "      <th>6</th>\n",
       "      <td>Jaqluine</td>\n",
       "      <td>NaN</td>\n",
       "      <td>NaN</td>\n",
       "      <td>73</td>\n",
       "    </tr>\n",
       "    <tr>\n",
       "      <th>7</th>\n",
       "      <td>Madonna</td>\n",
       "      <td>NaN</td>\n",
       "      <td>NaN</td>\n",
       "      <td>74</td>\n",
       "    </tr>\n",
       "    <tr>\n",
       "      <th>8</th>\n",
       "      <td>Rahul</td>\n",
       "      <td>NaN</td>\n",
       "      <td>NaN</td>\n",
       "      <td>77</td>\n",
       "    </tr>\n",
       "    <tr>\n",
       "      <th>9</th>\n",
       "      <td>Rocky</td>\n",
       "      <td>NaN</td>\n",
       "      <td>NaN</td>\n",
       "      <td>86</td>\n",
       "    </tr>\n",
       "    <tr>\n",
       "      <th>10</th>\n",
       "      <td>Sebastian</td>\n",
       "      <td>NaN</td>\n",
       "      <td>NaN</td>\n",
       "      <td>89</td>\n",
       "    </tr>\n",
       "    <tr>\n",
       "      <th>11</th>\n",
       "      <td>Teresa</td>\n",
       "      <td>NaN</td>\n",
       "      <td>NaN</td>\n",
       "      <td>97</td>\n",
       "    </tr>\n",
       "  </tbody>\n",
       "</table>\n",
       "</div>"
      ],
      "text/plain": [
       "         Name  Score1  Score2  Score3\n",
       "0        Ajay    47.0    67.0      45\n",
       "1       Alisa     NaN     NaN      56\n",
       "2      Andrew     NaN     NaN      62\n",
       "3       Bobby     NaN     NaN      67\n",
       "4    Cathrine     NaN     NaN      68\n",
       "5       David     NaN     NaN      71\n",
       "6    Jaqluine     NaN     NaN      73\n",
       "7     Madonna     NaN     NaN      74\n",
       "8       Rahul     NaN     NaN      77\n",
       "9       Rocky     NaN     NaN      86\n",
       "10  Sebastian     NaN     NaN      89\n",
       "11     Teresa     NaN     NaN      97"
      ]
     },
     "execution_count": 36,
     "metadata": {},
     "output_type": "execute_result"
    }
   ],
   "source": [
    "df2.mode(axis=0)"
   ]
  },
  {
   "cell_type": "raw",
   "metadata": {},
   "source": [
    "axis=0 argument calculates the column wise mode of the dataframe"
   ]
  },
  {
   "cell_type": "markdown",
   "metadata": {},
   "source": [
    "# Row Mode of the dataframe"
   ]
  },
  {
   "cell_type": "code",
   "execution_count": 37,
   "metadata": {},
   "outputs": [
    {
     "name": "stderr",
     "output_type": "stream",
     "text": [
      "C:\\Users\\DELL\\Anaconda3\\lib\\site-packages\\pandas\\core\\algorithms.py:838: UserWarning: Unable to sort modes: '<' not supported between instances of 'str' and 'int'\n",
      "  warn(\"Unable to sort modes: {error}\".format(error=e))\n",
      "C:\\Users\\DELL\\Anaconda3\\lib\\site-packages\\pandas\\core\\algorithms.py:838: UserWarning: Unable to sort modes: '<' not supported between instances of 'int' and 'str'\n",
      "  warn(\"Unable to sort modes: {error}\".format(error=e))\n"
     ]
    },
    {
     "data": {
      "text/html": [
       "<div>\n",
       "<style scoped>\n",
       "    .dataframe tbody tr th:only-of-type {\n",
       "        vertical-align: middle;\n",
       "    }\n",
       "\n",
       "    .dataframe tbody tr th {\n",
       "        vertical-align: top;\n",
       "    }\n",
       "\n",
       "    .dataframe thead th {\n",
       "        text-align: right;\n",
       "    }\n",
       "</style>\n",
       "<table border=\"1\" class=\"dataframe\">\n",
       "  <thead>\n",
       "    <tr style=\"text-align: right;\">\n",
       "      <th></th>\n",
       "      <th>0</th>\n",
       "      <th>1</th>\n",
       "      <th>2</th>\n",
       "      <th>3</th>\n",
       "    </tr>\n",
       "  </thead>\n",
       "  <tbody>\n",
       "    <tr>\n",
       "      <th>0</th>\n",
       "      <td>56</td>\n",
       "      <td>89</td>\n",
       "      <td>62</td>\n",
       "      <td>Alisa</td>\n",
       "    </tr>\n",
       "    <tr>\n",
       "      <th>1</th>\n",
       "      <td>Bobby</td>\n",
       "      <td>47</td>\n",
       "      <td>86</td>\n",
       "      <td>87</td>\n",
       "    </tr>\n",
       "    <tr>\n",
       "      <th>2</th>\n",
       "      <td>67</td>\n",
       "      <td>77</td>\n",
       "      <td>55</td>\n",
       "      <td>Cathrine</td>\n",
       "    </tr>\n",
       "    <tr>\n",
       "      <th>3</th>\n",
       "      <td>74</td>\n",
       "      <td>45</td>\n",
       "      <td>Madonna</td>\n",
       "      <td>55</td>\n",
       "    </tr>\n",
       "    <tr>\n",
       "      <th>4</th>\n",
       "      <td>47</td>\n",
       "      <td>NaN</td>\n",
       "      <td>NaN</td>\n",
       "      <td>NaN</td>\n",
       "    </tr>\n",
       "    <tr>\n",
       "      <th>5</th>\n",
       "      <td>72</td>\n",
       "      <td>Sebastian</td>\n",
       "      <td>77</td>\n",
       "      <td>62</td>\n",
       "    </tr>\n",
       "    <tr>\n",
       "      <th>6</th>\n",
       "      <td>Jaqluine</td>\n",
       "      <td>74</td>\n",
       "      <td>76</td>\n",
       "      <td>85</td>\n",
       "    </tr>\n",
       "    <tr>\n",
       "      <th>7</th>\n",
       "      <td>Rahul</td>\n",
       "      <td>89</td>\n",
       "      <td>63</td>\n",
       "      <td>79</td>\n",
       "    </tr>\n",
       "    <tr>\n",
       "      <th>8</th>\n",
       "      <td>44</td>\n",
       "      <td>42</td>\n",
       "      <td>David</td>\n",
       "      <td>71</td>\n",
       "    </tr>\n",
       "    <tr>\n",
       "      <th>9</th>\n",
       "      <td>67</td>\n",
       "      <td>NaN</td>\n",
       "      <td>NaN</td>\n",
       "      <td>NaN</td>\n",
       "    </tr>\n",
       "    <tr>\n",
       "      <th>10</th>\n",
       "      <td>97</td>\n",
       "      <td>Ajay</td>\n",
       "      <td>99</td>\n",
       "      <td>71</td>\n",
       "    </tr>\n",
       "    <tr>\n",
       "      <th>11</th>\n",
       "      <td>57</td>\n",
       "      <td>Teresa</td>\n",
       "      <td>68</td>\n",
       "      <td>69</td>\n",
       "    </tr>\n",
       "  </tbody>\n",
       "</table>\n",
       "</div>"
      ],
      "text/plain": [
       "           0          1        2         3\n",
       "0         56         89       62     Alisa\n",
       "1      Bobby         47       86        87\n",
       "2         67         77       55  Cathrine\n",
       "3         74         45  Madonna        55\n",
       "4         47        NaN      NaN       NaN\n",
       "5         72  Sebastian       77        62\n",
       "6   Jaqluine         74       76        85\n",
       "7      Rahul         89       63        79\n",
       "8         44         42    David        71\n",
       "9         67        NaN      NaN       NaN\n",
       "10        97       Ajay       99        71\n",
       "11        57     Teresa       68        69"
      ]
     },
     "execution_count": 37,
     "metadata": {},
     "output_type": "execute_result"
    }
   ],
   "source": [
    "df2.mode(axis=1)"
   ]
  },
  {
   "cell_type": "raw",
   "metadata": {},
   "source": [
    "axis=1 argument calculates the row wise mode of the dataframe"
   ]
  },
  {
   "cell_type": "markdown",
   "metadata": {},
   "source": [
    "# Lets calculate the mode of the specific Column"
   ]
  },
  {
   "cell_type": "code",
   "execution_count": 43,
   "metadata": {},
   "outputs": [
    {
     "data": {
      "text/plain": [
       "0     31\n",
       "1     32\n",
       "2     42\n",
       "3     47\n",
       "4     55\n",
       "5     57\n",
       "6     62\n",
       "7     63\n",
       "8     71\n",
       "9     74\n",
       "10    77\n",
       "11    85\n",
       "dtype: int64"
      ]
     },
     "execution_count": 43,
     "metadata": {},
     "output_type": "execute_result"
    }
   ],
   "source": [
    "df.loc[:,\"Score1\"].mode()"
   ]
  },
  {
   "cell_type": "code",
   "execution_count": 42,
   "metadata": {},
   "outputs": [
    {
     "data": {
      "text/plain": [
       "0     31\n",
       "1     32\n",
       "2     42\n",
       "3     47\n",
       "4     55\n",
       "5     57\n",
       "6     62\n",
       "7     63\n",
       "8     71\n",
       "9     74\n",
       "10    77\n",
       "11    85\n",
       "dtype: int64"
      ]
     },
     "execution_count": 42,
     "metadata": {},
     "output_type": "execute_result"
    }
   ],
   "source": []
  },
  {
   "cell_type": "markdown",
   "metadata": {},
   "source": [
    "# WAP - In class exe :Calculate the mode of the column \"score2\"?"
   ]
  },
  {
   "cell_type": "markdown",
   "metadata": {},
   "source": [
    "# Range() function in Python"
   ]
  },
  {
   "cell_type": "markdown",
   "metadata": {},
   "source": [
    "# range() function with one parameter"
   ]
  },
  {
   "cell_type": "code",
   "execution_count": 44,
   "metadata": {},
   "outputs": [
    {
     "data": {
      "text/plain": [
       "[0, 1, 2]"
      ]
     },
     "execution_count": 44,
     "metadata": {},
     "output_type": "execute_result"
    }
   ],
   "source": [
    "list(range(3))"
   ]
  },
  {
   "cell_type": "markdown",
   "metadata": {},
   "source": [
    "# with two parameter"
   ]
  },
  {
   "cell_type": "code",
   "execution_count": 46,
   "metadata": {},
   "outputs": [
    {
     "data": {
      "text/plain": [
       "[1, 2, 3, 4, 5, 6]"
      ]
     },
     "execution_count": 46,
     "metadata": {},
     "output_type": "execute_result"
    }
   ],
   "source": [
    "list(range(1,7))\n",
    "#range(start,stop)"
   ]
  },
  {
   "cell_type": "markdown",
   "metadata": {},
   "source": [
    "# Lets try passing arguments where the first is greater than the second."
   ]
  },
  {
   "cell_type": "code",
   "execution_count": 47,
   "metadata": {},
   "outputs": [
    {
     "data": {
      "text/plain": [
       "[]"
      ]
     },
     "execution_count": 47,
     "metadata": {},
     "output_type": "execute_result"
    }
   ],
   "source": [
    "list(range(7,1))"
   ]
  },
  {
   "cell_type": "raw",
   "metadata": {},
   "source": [
    "#it returns an empty list because 7 falls to the right of 1, and it traverses to the right from 7. Therefore, it never reaches 1."
   ]
  },
  {
   "cell_type": "code",
   "execution_count": 48,
   "metadata": {},
   "outputs": [
    {
     "data": {
      "text/plain": [
       "[-7, -6, -5, -4, -3, -2, -1, 0, 1, 2]"
      ]
     },
     "execution_count": 48,
     "metadata": {},
     "output_type": "execute_result"
    }
   ],
   "source": [
    "list(range(-7,3))"
   ]
  },
  {
   "cell_type": "code",
   "execution_count": 49,
   "metadata": {},
   "outputs": [
    {
     "data": {
      "text/plain": [
       "[-7, -6, -5, -4]"
      ]
     },
     "execution_count": 49,
     "metadata": {},
     "output_type": "execute_result"
    }
   ],
   "source": [
    "list(range(-7,-3))"
   ]
  },
  {
   "cell_type": "markdown",
   "metadata": {},
   "source": [
    "# # In class lab exercise :\n",
    "What will happen if you pass the parameter as (-3,-7)?"
   ]
  },
  {
   "cell_type": "markdown",
   "metadata": {},
   "source": [
    "# Range() function with three parameters"
   ]
  },
  {
   "cell_type": "code",
   "execution_count": 51,
   "metadata": {},
   "outputs": [
    {
     "data": {
      "text/plain": [
       "[7, 6, 5, 4, 3, 2]"
      ]
     },
     "execution_count": 51,
     "metadata": {},
     "output_type": "execute_result"
    }
   ],
   "source": [
    "list(range(7,1,-1))\n",
    "#range(start,stop,interval)"
   ]
  },
  {
   "cell_type": "code",
   "execution_count": 52,
   "metadata": {},
   "outputs": [
    {
     "data": {
      "text/plain": [
       "[7, 5, 3]"
      ]
     },
     "execution_count": 52,
     "metadata": {},
     "output_type": "execute_result"
    }
   ],
   "source": [
    "list(range(7,1,-2))"
   ]
  },
  {
   "cell_type": "code",
   "execution_count": 53,
   "metadata": {},
   "outputs": [
    {
     "ename": "ValueError",
     "evalue": "range() arg 3 must not be zero",
     "output_type": "error",
     "traceback": [
      "\u001b[1;31m---------------------------------------------------------------------------\u001b[0m",
      "\u001b[1;31mValueError\u001b[0m                                Traceback (most recent call last)",
      "\u001b[1;32m<ipython-input-53-b18c306eec52>\u001b[0m in \u001b[0;36m<module>\u001b[1;34m()\u001b[0m\n\u001b[1;32m----> 1\u001b[1;33m \u001b[0mlist\u001b[0m\u001b[1;33m(\u001b[0m\u001b[0mrange\u001b[0m\u001b[1;33m(\u001b[0m\u001b[1;36m1\u001b[0m\u001b[1;33m,\u001b[0m\u001b[1;36m7\u001b[0m\u001b[1;33m,\u001b[0m\u001b[1;36m0\u001b[0m\u001b[1;33m)\u001b[0m\u001b[1;33m)\u001b[0m\u001b[1;33m\u001b[0m\u001b[0m\n\u001b[0m",
      "\u001b[1;31mValueError\u001b[0m: range() arg 3 must not be zero"
     ]
    }
   ],
   "source": [
    "list(range(1,7,0))"
   ]
  },
  {
   "cell_type": "raw",
   "metadata": {},
   "source": [
    "#It raised a value error, because the interval cannot be zero if you need to go from one number to another."
   ]
  },
  {
   "cell_type": "code",
   "execution_count": 54,
   "metadata": {},
   "outputs": [
    {
     "ename": "TypeError",
     "evalue": "'float' object cannot be interpreted as an integer",
     "output_type": "error",
     "traceback": [
      "\u001b[1;31m---------------------------------------------------------------------------\u001b[0m",
      "\u001b[1;31mTypeError\u001b[0m                                 Traceback (most recent call last)",
      "\u001b[1;32m<ipython-input-54-2c854100c504>\u001b[0m in \u001b[0;36m<module>\u001b[1;34m()\u001b[0m\n\u001b[1;32m----> 1\u001b[1;33m \u001b[0mlist\u001b[0m\u001b[1;33m(\u001b[0m\u001b[0mrange\u001b[0m\u001b[1;33m(\u001b[0m\u001b[1;36m1\u001b[0m\u001b[1;33m,\u001b[0m\u001b[1;36m7\u001b[0m\u001b[1;33m,\u001b[0m\u001b[1;36m1.5\u001b[0m\u001b[1;33m)\u001b[0m\u001b[1;33m)\u001b[0m\u001b[1;33m\u001b[0m\u001b[0m\n\u001b[0m",
      "\u001b[1;31mTypeError\u001b[0m: 'float' object cannot be interpreted as an integer"
     ]
    }
   ],
   "source": [
    "list(range(1,7,1.5))"
   ]
  },
  {
   "cell_type": "raw",
   "metadata": {},
   "source": [
    "#Note that all three arguments must be integers only."
   ]
  },
  {
   "cell_type": "markdown",
   "metadata": {},
   "source": [
    "# # In class lab exercise :\n",
    "What will happen if you pass the parameter as (12,2,2)?"
   ]
  },
  {
   "cell_type": "markdown",
   "metadata": {},
   "source": [
    "# Zscore"
   ]
  },
  {
   "cell_type": "code",
   "execution_count": 55,
   "metadata": {},
   "outputs": [],
   "source": [
    "from scipy.stats import zscore"
   ]
  },
  {
   "cell_type": "code",
   "execution_count": 58,
   "metadata": {},
   "outputs": [
    {
     "data": {
      "text/plain": [
       "array([-1.22474487,  0.        ,  1.22474487])"
      ]
     },
     "execution_count": 58,
     "metadata": {},
     "output_type": "execute_result"
    }
   ],
   "source": [
    "zscore([1, 2, 3])"
   ]
  },
  {
   "cell_type": "code",
   "execution_count": 59,
   "metadata": {},
   "outputs": [
    {
     "data": {
      "text/plain": [
       "array([[-1.22474487,  0.        ,  1.22474487],\n",
       "       [-1.22474487,  0.        ,  1.22474487]])"
      ]
     },
     "execution_count": 59,
     "metadata": {},
     "output_type": "execute_result"
    }
   ],
   "source": [
    "zscore([[1, 2, 3],[6, 7, 8]], axis=1)"
   ]
  },
  {
   "cell_type": "markdown",
   "metadata": {},
   "source": [
    "# Standard Deviation"
   ]
  },
  {
   "cell_type": "markdown",
   "metadata": {},
   "source": [
    "# Simple Standard deviation Function in Python"
   ]
  },
  {
   "cell_type": "code",
   "execution_count": 60,
   "metadata": {},
   "outputs": [
    {
     "name": "stdout",
     "output_type": "stream",
     "text": [
      "2.581988897471611\n",
      "8.312763729129232\n"
     ]
    }
   ],
   "source": [
    "import numpy as np\n",
    " \n",
    "print(np.std([1,9,5,6,8,7]))\n",
    "print(np.std([4,-11,-5,16,5,7,9]))"
   ]
  },
  {
   "cell_type": "markdown",
   "metadata": {},
   "source": [
    "# Standard deviation of a dataframe:"
   ]
  },
  {
   "cell_type": "code",
   "execution_count": 61,
   "metadata": {},
   "outputs": [
    {
     "data": {
      "text/html": [
       "<div>\n",
       "<style scoped>\n",
       "    .dataframe tbody tr th:only-of-type {\n",
       "        vertical-align: middle;\n",
       "    }\n",
       "\n",
       "    .dataframe tbody tr th {\n",
       "        vertical-align: top;\n",
       "    }\n",
       "\n",
       "    .dataframe thead th {\n",
       "        text-align: right;\n",
       "    }\n",
       "</style>\n",
       "<table border=\"1\" class=\"dataframe\">\n",
       "  <thead>\n",
       "    <tr style=\"text-align: right;\">\n",
       "      <th></th>\n",
       "      <th>Name</th>\n",
       "      <th>Score1</th>\n",
       "      <th>Score2</th>\n",
       "      <th>Score3</th>\n",
       "    </tr>\n",
       "  </thead>\n",
       "  <tbody>\n",
       "    <tr>\n",
       "      <th>0</th>\n",
       "      <td>Alisa</td>\n",
       "      <td>62</td>\n",
       "      <td>89</td>\n",
       "      <td>56</td>\n",
       "    </tr>\n",
       "    <tr>\n",
       "      <th>1</th>\n",
       "      <td>Bobby</td>\n",
       "      <td>47</td>\n",
       "      <td>87</td>\n",
       "      <td>86</td>\n",
       "    </tr>\n",
       "    <tr>\n",
       "      <th>2</th>\n",
       "      <td>Cathrine</td>\n",
       "      <td>55</td>\n",
       "      <td>67</td>\n",
       "      <td>77</td>\n",
       "    </tr>\n",
       "    <tr>\n",
       "      <th>3</th>\n",
       "      <td>Madonna</td>\n",
       "      <td>74</td>\n",
       "      <td>55</td>\n",
       "      <td>45</td>\n",
       "    </tr>\n",
       "    <tr>\n",
       "      <th>4</th>\n",
       "      <td>Rocky</td>\n",
       "      <td>31</td>\n",
       "      <td>47</td>\n",
       "      <td>73</td>\n",
       "    </tr>\n",
       "    <tr>\n",
       "      <th>5</th>\n",
       "      <td>Sebastian</td>\n",
       "      <td>77</td>\n",
       "      <td>72</td>\n",
       "      <td>62</td>\n",
       "    </tr>\n",
       "    <tr>\n",
       "      <th>6</th>\n",
       "      <td>Jaqluine</td>\n",
       "      <td>85</td>\n",
       "      <td>76</td>\n",
       "      <td>74</td>\n",
       "    </tr>\n",
       "    <tr>\n",
       "      <th>7</th>\n",
       "      <td>Rahul</td>\n",
       "      <td>63</td>\n",
       "      <td>79</td>\n",
       "      <td>89</td>\n",
       "    </tr>\n",
       "    <tr>\n",
       "      <th>8</th>\n",
       "      <td>David</td>\n",
       "      <td>42</td>\n",
       "      <td>44</td>\n",
       "      <td>71</td>\n",
       "    </tr>\n",
       "    <tr>\n",
       "      <th>9</th>\n",
       "      <td>Andrew</td>\n",
       "      <td>32</td>\n",
       "      <td>92</td>\n",
       "      <td>67</td>\n",
       "    </tr>\n",
       "    <tr>\n",
       "      <th>10</th>\n",
       "      <td>Ajay</td>\n",
       "      <td>71</td>\n",
       "      <td>99</td>\n",
       "      <td>97</td>\n",
       "    </tr>\n",
       "    <tr>\n",
       "      <th>11</th>\n",
       "      <td>Teresa</td>\n",
       "      <td>57</td>\n",
       "      <td>69</td>\n",
       "      <td>68</td>\n",
       "    </tr>\n",
       "  </tbody>\n",
       "</table>\n",
       "</div>"
      ],
      "text/plain": [
       "         Name  Score1  Score2  Score3\n",
       "0       Alisa      62      89      56\n",
       "1       Bobby      47      87      86\n",
       "2    Cathrine      55      67      77\n",
       "3     Madonna      74      55      45\n",
       "4       Rocky      31      47      73\n",
       "5   Sebastian      77      72      62\n",
       "6    Jaqluine      85      76      74\n",
       "7       Rahul      63      79      89\n",
       "8       David      42      44      71\n",
       "9      Andrew      32      92      67\n",
       "10       Ajay      71      99      97\n",
       "11     Teresa      57      69      68"
      ]
     },
     "execution_count": 61,
     "metadata": {},
     "output_type": "execute_result"
    }
   ],
   "source": [
    "import pandas as pd\n",
    "import numpy as np\n",
    " \n",
    "#Create a DataFrame\n",
    "d = {\n",
    "    'Name':['Alisa','Bobby','Cathrine','Madonna','Rocky','Sebastian','Jaqluine',\n",
    "   'Rahul','David','Andrew','Ajay','Teresa'],\n",
    "   'Score1':[62,47,55,74,31,77,85,63,42,32,71,57],\n",
    "   'Score2':[89,87,67,55,47,72,76,79,44,92,99,69],\n",
    "   'Score3':[56,86,77,45,73,62,74,89,71,67,97,68]}\n",
    " \n",
    " \n",
    " \n",
    "df3 = pd.DataFrame(d)\n",
    "df3"
   ]
  },
  {
   "cell_type": "code",
   "execution_count": 62,
   "metadata": {},
   "outputs": [
    {
     "data": {
      "text/plain": [
       "Score1    17.446021\n",
       "Score2    17.653225\n",
       "Score3    14.355603\n",
       "dtype: float64"
      ]
     },
     "execution_count": 62,
     "metadata": {},
     "output_type": "execute_result"
    }
   ],
   "source": [
    "df3.std()"
   ]
  },
  {
   "cell_type": "markdown",
   "metadata": {},
   "source": [
    "# Column Standard deviation of the dataframe:"
   ]
  },
  {
   "cell_type": "code",
   "execution_count": 63,
   "metadata": {},
   "outputs": [
    {
     "data": {
      "text/plain": [
       "Score1    17.446021\n",
       "Score2    17.653225\n",
       "dtype: float64"
      ]
     },
     "execution_count": 63,
     "metadata": {},
     "output_type": "execute_result"
    }
   ],
   "source": [
    "df3.std(axis=0)"
   ]
  },
  {
   "cell_type": "raw",
   "metadata": {},
   "source": [
    "axis=0 argument calculates the column wise standard deviation of the dataframe"
   ]
  },
  {
   "cell_type": "markdown",
   "metadata": {},
   "source": [
    "# Row standard deviation of the dataframe:"
   ]
  },
  {
   "cell_type": "code",
   "execution_count": 64,
   "metadata": {},
   "outputs": [
    {
     "data": {
      "text/plain": [
       "0     19.091883\n",
       "1     28.284271\n",
       "2      8.485281\n",
       "3     13.435029\n",
       "4     11.313708\n",
       "5      3.535534\n",
       "6      6.363961\n",
       "7     11.313708\n",
       "8      1.414214\n",
       "9     42.426407\n",
       "10    19.798990\n",
       "11     8.485281\n",
       "dtype: float64"
      ]
     },
     "execution_count": 64,
     "metadata": {},
     "output_type": "execute_result"
    }
   ],
   "source": [
    "df3.std(axis=1)"
   ]
  },
  {
   "cell_type": "raw",
   "metadata": {},
   "source": [
    "axis=1 argument calculates the row wise standard deviation of the dataframe"
   ]
  },
  {
   "cell_type": "markdown",
   "metadata": {},
   "source": [
    "# Lets Calculate the standard deviation of the specific Column"
   ]
  },
  {
   "cell_type": "code",
   "execution_count": 65,
   "metadata": {},
   "outputs": [
    {
     "data": {
      "text/plain": [
       "17.446020645512156"
      ]
     },
     "execution_count": 65,
     "metadata": {},
     "output_type": "execute_result"
    }
   ],
   "source": [
    "df3.loc[:,\"Score1\"].std()"
   ]
  },
  {
   "cell_type": "markdown",
   "metadata": {},
   "source": [
    "# # In class lab exercise :\n",
    "Calculate the Standard deviation of the column \"score2\"?"
   ]
  },
  {
   "cell_type": "markdown",
   "metadata": {},
   "source": [
    "# coefficient of Correlation"
   ]
  },
  {
   "cell_type": "code",
   "execution_count": 70,
   "metadata": {},
   "outputs": [
    {
     "data": {
      "text/html": [
       "<div>\n",
       "<style scoped>\n",
       "    .dataframe tbody tr th:only-of-type {\n",
       "        vertical-align: middle;\n",
       "    }\n",
       "\n",
       "    .dataframe tbody tr th {\n",
       "        vertical-align: top;\n",
       "    }\n",
       "\n",
       "    .dataframe thead th {\n",
       "        text-align: right;\n",
       "    }\n",
       "</style>\n",
       "<table border=\"1\" class=\"dataframe\">\n",
       "  <thead>\n",
       "    <tr style=\"text-align: right;\">\n",
       "      <th></th>\n",
       "      <th>Score1</th>\n",
       "      <th>Score2</th>\n",
       "      <th>Score3</th>\n",
       "    </tr>\n",
       "  </thead>\n",
       "  <tbody>\n",
       "    <tr>\n",
       "      <th>Score1</th>\n",
       "      <td>1.000000</td>\n",
       "      <td>0.220204</td>\n",
       "      <td>-0.097280</td>\n",
       "    </tr>\n",
       "    <tr>\n",
       "      <th>Score2</th>\n",
       "      <td>0.220204</td>\n",
       "      <td>1.000000</td>\n",
       "      <td>0.390293</td>\n",
       "    </tr>\n",
       "    <tr>\n",
       "      <th>Score3</th>\n",
       "      <td>-0.097280</td>\n",
       "      <td>0.390293</td>\n",
       "      <td>1.000000</td>\n",
       "    </tr>\n",
       "  </tbody>\n",
       "</table>\n",
       "</div>"
      ],
      "text/plain": [
       "          Score1    Score2    Score3\n",
       "Score1  1.000000  0.220204 -0.097280\n",
       "Score2  0.220204  1.000000  0.390293\n",
       "Score3 -0.097280  0.390293  1.000000"
      ]
     },
     "execution_count": 70,
     "metadata": {},
     "output_type": "execute_result"
    }
   ],
   "source": [
    "df3.corr()"
   ]
  },
  {
   "cell_type": "code",
   "execution_count": 71,
   "metadata": {},
   "outputs": [
    {
     "data": {
      "text/html": [
       "<div>\n",
       "<style scoped>\n",
       "    .dataframe tbody tr th:only-of-type {\n",
       "        vertical-align: middle;\n",
       "    }\n",
       "\n",
       "    .dataframe tbody tr th {\n",
       "        vertical-align: top;\n",
       "    }\n",
       "\n",
       "    .dataframe thead th {\n",
       "        text-align: right;\n",
       "    }\n",
       "</style>\n",
       "<table border=\"1\" class=\"dataframe\">\n",
       "  <thead>\n",
       "    <tr style=\"text-align: right;\">\n",
       "      <th></th>\n",
       "      <th>Score1</th>\n",
       "      <th>Score2</th>\n",
       "      <th>Score3</th>\n",
       "    </tr>\n",
       "  </thead>\n",
       "  <tbody>\n",
       "    <tr>\n",
       "      <th>Score1</th>\n",
       "      <td>1.000000</td>\n",
       "      <td>0.220204</td>\n",
       "      <td>-0.097280</td>\n",
       "    </tr>\n",
       "    <tr>\n",
       "      <th>Score2</th>\n",
       "      <td>0.220204</td>\n",
       "      <td>1.000000</td>\n",
       "      <td>0.390293</td>\n",
       "    </tr>\n",
       "    <tr>\n",
       "      <th>Score3</th>\n",
       "      <td>-0.097280</td>\n",
       "      <td>0.390293</td>\n",
       "      <td>1.000000</td>\n",
       "    </tr>\n",
       "  </tbody>\n",
       "</table>\n",
       "</div>"
      ],
      "text/plain": [
       "          Score1    Score2    Score3\n",
       "Score1  1.000000  0.220204 -0.097280\n",
       "Score2  0.220204  1.000000  0.390293\n",
       "Score3 -0.097280  0.390293  1.000000"
      ]
     },
     "execution_count": 71,
     "metadata": {},
     "output_type": "execute_result"
    }
   ],
   "source": [
    "df3.corr(method=\"pearson\")"
   ]
  },
  {
   "cell_type": "code",
   "execution_count": 69,
   "metadata": {},
   "outputs": [
    {
     "data": {
      "text/html": [
       "<div>\n",
       "<style scoped>\n",
       "    .dataframe tbody tr th:only-of-type {\n",
       "        vertical-align: middle;\n",
       "    }\n",
       "\n",
       "    .dataframe tbody tr th {\n",
       "        vertical-align: top;\n",
       "    }\n",
       "\n",
       "    .dataframe thead th {\n",
       "        text-align: right;\n",
       "    }\n",
       "</style>\n",
       "<table border=\"1\" class=\"dataframe\">\n",
       "  <thead>\n",
       "    <tr style=\"text-align: right;\">\n",
       "      <th></th>\n",
       "      <th>Score1</th>\n",
       "      <th>Score2</th>\n",
       "      <th>Score3</th>\n",
       "    </tr>\n",
       "  </thead>\n",
       "  <tbody>\n",
       "    <tr>\n",
       "      <th>Score1</th>\n",
       "      <td>304.363636</td>\n",
       "      <td>67.818182</td>\n",
       "      <td>-24.363636</td>\n",
       "    </tr>\n",
       "    <tr>\n",
       "      <th>Score2</th>\n",
       "      <td>67.818182</td>\n",
       "      <td>311.636364</td>\n",
       "      <td>98.909091</td>\n",
       "    </tr>\n",
       "    <tr>\n",
       "      <th>Score3</th>\n",
       "      <td>-24.363636</td>\n",
       "      <td>98.909091</td>\n",
       "      <td>206.083333</td>\n",
       "    </tr>\n",
       "  </tbody>\n",
       "</table>\n",
       "</div>"
      ],
      "text/plain": [
       "            Score1      Score2      Score3\n",
       "Score1  304.363636   67.818182  -24.363636\n",
       "Score2   67.818182  311.636364   98.909091\n",
       "Score3  -24.363636   98.909091  206.083333"
      ]
     },
     "execution_count": 69,
     "metadata": {},
     "output_type": "execute_result"
    }
   ],
   "source": [
    "df3.cov()"
   ]
  },
  {
   "cell_type": "markdown",
   "metadata": {},
   "source": [
    "# Skewness and Kurtosis"
   ]
  },
  {
   "cell_type": "code",
   "execution_count": 77,
   "metadata": {},
   "outputs": [
    {
     "data": {
      "text/plain": [
       "Score1   -0.928304\n",
       "Score2   -0.847635\n",
       "Score3    0.128366\n",
       "dtype: float64"
      ]
     },
     "execution_count": 77,
     "metadata": {},
     "output_type": "execute_result"
    }
   ],
   "source": [
    "df3.kurtosis()"
   ]
  },
  {
   "cell_type": "code",
   "execution_count": 75,
   "metadata": {},
   "outputs": [
    {
     "data": {
      "text/plain": [
       "Score1   -0.199078\n",
       "Score2   -0.328380\n",
       "Score3   -0.078164\n",
       "dtype: float64"
      ]
     },
     "execution_count": 75,
     "metadata": {},
     "output_type": "execute_result"
    }
   ],
   "source": [
    "df3.skew()"
   ]
  },
  {
   "cell_type": "markdown",
   "metadata": {},
   "source": [
    "# Lets perform the above concepts using a real life example"
   ]
  },
  {
   "cell_type": "code",
   "execution_count": 2,
   "metadata": {},
   "outputs": [],
   "source": [
    "import pandas as pd \n",
    "import numpy as np\n",
    "import csv\n",
    "data = pd.read_csv(\"C:/Users/DELL/Desktop/wine.csv\", encoding=\"latin-1\")"
   ]
  },
  {
   "cell_type": "code",
   "execution_count": 3,
   "metadata": {},
   "outputs": [
    {
     "data": {
      "text/html": [
       "<div>\n",
       "<style scoped>\n",
       "    .dataframe tbody tr th:only-of-type {\n",
       "        vertical-align: middle;\n",
       "    }\n",
       "\n",
       "    .dataframe tbody tr th {\n",
       "        vertical-align: top;\n",
       "    }\n",
       "\n",
       "    .dataframe thead th {\n",
       "        text-align: right;\n",
       "    }\n",
       "</style>\n",
       "<table border=\"1\" class=\"dataframe\">\n",
       "  <thead>\n",
       "    <tr style=\"text-align: right;\">\n",
       "      <th></th>\n",
       "      <th>Unnamed: 0</th>\n",
       "      <th>country</th>\n",
       "      <th>description</th>\n",
       "      <th>designation</th>\n",
       "      <th>points</th>\n",
       "      <th>price</th>\n",
       "      <th>province</th>\n",
       "      <th>region_1</th>\n",
       "      <th>region_2</th>\n",
       "      <th>taster_name</th>\n",
       "      <th>taster_twitter_handle</th>\n",
       "      <th>title</th>\n",
       "      <th>variety</th>\n",
       "      <th>winery</th>\n",
       "    </tr>\n",
       "  </thead>\n",
       "  <tbody>\n",
       "    <tr>\n",
       "      <th>0</th>\n",
       "      <td>0</td>\n",
       "      <td>Italy</td>\n",
       "      <td>Aromas include tropical fruit, broom, brimston...</td>\n",
       "      <td>VulkÃ  Bianco</td>\n",
       "      <td>87</td>\n",
       "      <td>NaN</td>\n",
       "      <td>Sicily &amp; Sardinia</td>\n",
       "      <td>Etna</td>\n",
       "      <td>NaN</td>\n",
       "      <td>Kerin OâKeefe</td>\n",
       "      <td>@kerinokeefe</td>\n",
       "      <td>Nicosia 2013 VulkÃ  Bianco  (Etna)</td>\n",
       "      <td>White Blend</td>\n",
       "      <td>Nicosia</td>\n",
       "    </tr>\n",
       "    <tr>\n",
       "      <th>1</th>\n",
       "      <td>1</td>\n",
       "      <td>Portugal</td>\n",
       "      <td>This is ripe and fruity, a wine that is smooth...</td>\n",
       "      <td>Avidagos</td>\n",
       "      <td>87</td>\n",
       "      <td>15.0</td>\n",
       "      <td>Douro</td>\n",
       "      <td>NaN</td>\n",
       "      <td>NaN</td>\n",
       "      <td>Roger Voss</td>\n",
       "      <td>@vossroger</td>\n",
       "      <td>Quinta dos Avidagos 2011 Avidagos Red (Douro)</td>\n",
       "      <td>Portuguese Red</td>\n",
       "      <td>Quinta dos Avidagos</td>\n",
       "    </tr>\n",
       "    <tr>\n",
       "      <th>2</th>\n",
       "      <td>2</td>\n",
       "      <td>US</td>\n",
       "      <td>Tart and snappy, the flavors of lime flesh and...</td>\n",
       "      <td>NaN</td>\n",
       "      <td>87</td>\n",
       "      <td>14.0</td>\n",
       "      <td>Oregon</td>\n",
       "      <td>Willamette Valley</td>\n",
       "      <td>Willamette Valley</td>\n",
       "      <td>Paul Gregutt</td>\n",
       "      <td>@paulgwineÂ</td>\n",
       "      <td>Rainstorm 2013 Pinot Gris (Willamette Valley)</td>\n",
       "      <td>Pinot Gris</td>\n",
       "      <td>Rainstorm</td>\n",
       "    </tr>\n",
       "    <tr>\n",
       "      <th>3</th>\n",
       "      <td>3</td>\n",
       "      <td>US</td>\n",
       "      <td>Pineapple rind, lemon pith and orange blossom ...</td>\n",
       "      <td>Reserve Late Harvest</td>\n",
       "      <td>87</td>\n",
       "      <td>13.0</td>\n",
       "      <td>Michigan</td>\n",
       "      <td>Lake Michigan Shore</td>\n",
       "      <td>NaN</td>\n",
       "      <td>Alexander Peartree</td>\n",
       "      <td>NaN</td>\n",
       "      <td>St. Julian 2013 Reserve Late Harvest Riesling ...</td>\n",
       "      <td>Riesling</td>\n",
       "      <td>St. Julian</td>\n",
       "    </tr>\n",
       "    <tr>\n",
       "      <th>4</th>\n",
       "      <td>4</td>\n",
       "      <td>US</td>\n",
       "      <td>Much like the regular bottling from 2012, this...</td>\n",
       "      <td>Vintner's Reserve Wild Child Block</td>\n",
       "      <td>87</td>\n",
       "      <td>65.0</td>\n",
       "      <td>Oregon</td>\n",
       "      <td>Willamette Valley</td>\n",
       "      <td>Willamette Valley</td>\n",
       "      <td>Paul Gregutt</td>\n",
       "      <td>@paulgwineÂ</td>\n",
       "      <td>Sweet Cheeks 2012 Vintner's Reserve Wild Child...</td>\n",
       "      <td>Pinot Noir</td>\n",
       "      <td>Sweet Cheeks</td>\n",
       "    </tr>\n",
       "  </tbody>\n",
       "</table>\n",
       "</div>"
      ],
      "text/plain": [
       "   Unnamed: 0   country                                        description  \\\n",
       "0           0     Italy  Aromas include tropical fruit, broom, brimston...   \n",
       "1           1  Portugal  This is ripe and fruity, a wine that is smooth...   \n",
       "2           2        US  Tart and snappy, the flavors of lime flesh and...   \n",
       "3           3        US  Pineapple rind, lemon pith and orange blossom ...   \n",
       "4           4        US  Much like the regular bottling from 2012, this...   \n",
       "\n",
       "                          designation  points  price           province  \\\n",
       "0                       VulkÃ  Bianco      87    NaN  Sicily & Sardinia   \n",
       "1                            Avidagos      87   15.0              Douro   \n",
       "2                                 NaN      87   14.0             Oregon   \n",
       "3                Reserve Late Harvest      87   13.0           Michigan   \n",
       "4  Vintner's Reserve Wild Child Block      87   65.0             Oregon   \n",
       "\n",
       "              region_1           region_2         taster_name  \\\n",
       "0                 Etna                NaN     Kerin OâKeefe   \n",
       "1                  NaN                NaN          Roger Voss   \n",
       "2    Willamette Valley  Willamette Valley        Paul Gregutt   \n",
       "3  Lake Michigan Shore                NaN  Alexander Peartree   \n",
       "4    Willamette Valley  Willamette Valley        Paul Gregutt   \n",
       "\n",
       "  taster_twitter_handle                                              title  \\\n",
       "0          @kerinokeefe                 Nicosia 2013 VulkÃ  Bianco  (Etna)   \n",
       "1            @vossroger      Quinta dos Avidagos 2011 Avidagos Red (Douro)   \n",
       "2          @paulgwineÂ       Rainstorm 2013 Pinot Gris (Willamette Valley)   \n",
       "3                   NaN  St. Julian 2013 Reserve Late Harvest Riesling ...   \n",
       "4          @paulgwineÂ   Sweet Cheeks 2012 Vintner's Reserve Wild Child...   \n",
       "\n",
       "          variety               winery  \n",
       "0     White Blend              Nicosia  \n",
       "1  Portuguese Red  Quinta dos Avidagos  \n",
       "2      Pinot Gris            Rainstorm  \n",
       "3        Riesling           St. Julian  \n",
       "4      Pinot Noir         Sweet Cheeks  "
      ]
     },
     "execution_count": 3,
     "metadata": {},
     "output_type": "execute_result"
    }
   ],
   "source": [
    "data.head()"
   ]
  },
  {
   "cell_type": "code",
   "execution_count": 4,
   "metadata": {},
   "outputs": [
    {
     "data": {
      "text/html": [
       "<div>\n",
       "<style scoped>\n",
       "    .dataframe tbody tr th:only-of-type {\n",
       "        vertical-align: middle;\n",
       "    }\n",
       "\n",
       "    .dataframe tbody tr th {\n",
       "        vertical-align: top;\n",
       "    }\n",
       "\n",
       "    .dataframe thead th {\n",
       "        text-align: right;\n",
       "    }\n",
       "</style>\n",
       "<table border=\"1\" class=\"dataframe\">\n",
       "  <thead>\n",
       "    <tr style=\"text-align: right;\">\n",
       "      <th></th>\n",
       "      <th>Unnamed: 0</th>\n",
       "      <th>country</th>\n",
       "      <th>description</th>\n",
       "      <th>designation</th>\n",
       "      <th>points</th>\n",
       "      <th>price</th>\n",
       "      <th>province</th>\n",
       "      <th>region_1</th>\n",
       "      <th>region_2</th>\n",
       "      <th>taster_name</th>\n",
       "      <th>taster_twitter_handle</th>\n",
       "      <th>title</th>\n",
       "      <th>variety</th>\n",
       "      <th>winery</th>\n",
       "    </tr>\n",
       "  </thead>\n",
       "  <tbody>\n",
       "    <tr>\n",
       "      <th>129966</th>\n",
       "      <td>129966</td>\n",
       "      <td>Germany</td>\n",
       "      <td>Notes of honeysuckle and cantaloupe sweeten th...</td>\n",
       "      <td>Brauneberger Juffer-Sonnenuhr SpÃ¤tlese</td>\n",
       "      <td>90</td>\n",
       "      <td>28.0</td>\n",
       "      <td>Mosel</td>\n",
       "      <td>NaN</td>\n",
       "      <td>NaN</td>\n",
       "      <td>Anna Lee C. Iijima</td>\n",
       "      <td>NaN</td>\n",
       "      <td>Dr. H. Thanisch (Erben MÃ¼ller-Burggraef) 2013...</td>\n",
       "      <td>Riesling</td>\n",
       "      <td>Dr. H. Thanisch (Erben MÃ¼ller-Burggraef)</td>\n",
       "    </tr>\n",
       "    <tr>\n",
       "      <th>129967</th>\n",
       "      <td>129967</td>\n",
       "      <td>US</td>\n",
       "      <td>Citation is given as much as a decade of bottl...</td>\n",
       "      <td>NaN</td>\n",
       "      <td>90</td>\n",
       "      <td>75.0</td>\n",
       "      <td>Oregon</td>\n",
       "      <td>Oregon</td>\n",
       "      <td>Oregon Other</td>\n",
       "      <td>Paul Gregutt</td>\n",
       "      <td>@paulgwineÂ</td>\n",
       "      <td>Citation 2004 Pinot Noir (Oregon)</td>\n",
       "      <td>Pinot Noir</td>\n",
       "      <td>Citation</td>\n",
       "    </tr>\n",
       "    <tr>\n",
       "      <th>129968</th>\n",
       "      <td>129968</td>\n",
       "      <td>France</td>\n",
       "      <td>Well-drained gravel soil gives this wine its c...</td>\n",
       "      <td>Kritt</td>\n",
       "      <td>90</td>\n",
       "      <td>30.0</td>\n",
       "      <td>Alsace</td>\n",
       "      <td>Alsace</td>\n",
       "      <td>NaN</td>\n",
       "      <td>Roger Voss</td>\n",
       "      <td>@vossroger</td>\n",
       "      <td>Domaine Gresser 2013 Kritt Gewurztraminer (Als...</td>\n",
       "      <td>GewÃ¼rztraminer</td>\n",
       "      <td>Domaine Gresser</td>\n",
       "    </tr>\n",
       "    <tr>\n",
       "      <th>129969</th>\n",
       "      <td>129969</td>\n",
       "      <td>France</td>\n",
       "      <td>A dry style of Pinot Gris, this is crisp with ...</td>\n",
       "      <td>NaN</td>\n",
       "      <td>90</td>\n",
       "      <td>32.0</td>\n",
       "      <td>Alsace</td>\n",
       "      <td>Alsace</td>\n",
       "      <td>NaN</td>\n",
       "      <td>Roger Voss</td>\n",
       "      <td>@vossroger</td>\n",
       "      <td>Domaine Marcel Deiss 2012 Pinot Gris (Alsace)</td>\n",
       "      <td>Pinot Gris</td>\n",
       "      <td>Domaine Marcel Deiss</td>\n",
       "    </tr>\n",
       "    <tr>\n",
       "      <th>129970</th>\n",
       "      <td>129970</td>\n",
       "      <td>France</td>\n",
       "      <td>Big, rich and off-dry, this is powered by inte...</td>\n",
       "      <td>Lieu-dit Harth CuvÃ©e Caroline</td>\n",
       "      <td>90</td>\n",
       "      <td>21.0</td>\n",
       "      <td>Alsace</td>\n",
       "      <td>Alsace</td>\n",
       "      <td>NaN</td>\n",
       "      <td>Roger Voss</td>\n",
       "      <td>@vossroger</td>\n",
       "      <td>Domaine Schoffit 2012 Lieu-dit Harth CuvÃ©e Ca...</td>\n",
       "      <td>GewÃ¼rztraminer</td>\n",
       "      <td>Domaine Schoffit</td>\n",
       "    </tr>\n",
       "  </tbody>\n",
       "</table>\n",
       "</div>"
      ],
      "text/plain": [
       "        Unnamed: 0  country  \\\n",
       "129966      129966  Germany   \n",
       "129967      129967       US   \n",
       "129968      129968   France   \n",
       "129969      129969   France   \n",
       "129970      129970   France   \n",
       "\n",
       "                                              description  \\\n",
       "129966  Notes of honeysuckle and cantaloupe sweeten th...   \n",
       "129967  Citation is given as much as a decade of bottl...   \n",
       "129968  Well-drained gravel soil gives this wine its c...   \n",
       "129969  A dry style of Pinot Gris, this is crisp with ...   \n",
       "129970  Big, rich and off-dry, this is powered by inte...   \n",
       "\n",
       "                                    designation  points  price province  \\\n",
       "129966  Brauneberger Juffer-Sonnenuhr SpÃ¤tlese      90   28.0    Mosel   \n",
       "129967                                      NaN      90   75.0   Oregon   \n",
       "129968                                    Kritt      90   30.0   Alsace   \n",
       "129969                                      NaN      90   32.0   Alsace   \n",
       "129970           Lieu-dit Harth CuvÃ©e Caroline      90   21.0   Alsace   \n",
       "\n",
       "       region_1      region_2         taster_name taster_twitter_handle  \\\n",
       "129966      NaN           NaN  Anna Lee C. Iijima                   NaN   \n",
       "129967   Oregon  Oregon Other        Paul Gregutt          @paulgwineÂ    \n",
       "129968   Alsace           NaN          Roger Voss            @vossroger   \n",
       "129969   Alsace           NaN          Roger Voss            @vossroger   \n",
       "129970   Alsace           NaN          Roger Voss            @vossroger   \n",
       "\n",
       "                                                    title          variety  \\\n",
       "129966  Dr. H. Thanisch (Erben MÃ¼ller-Burggraef) 2013...         Riesling   \n",
       "129967                  Citation 2004 Pinot Noir (Oregon)       Pinot Noir   \n",
       "129968  Domaine Gresser 2013 Kritt Gewurztraminer (Als...  GewÃ¼rztraminer   \n",
       "129969      Domaine Marcel Deiss 2012 Pinot Gris (Alsace)       Pinot Gris   \n",
       "129970  Domaine Schoffit 2012 Lieu-dit Harth CuvÃ©e Ca...  GewÃ¼rztraminer   \n",
       "\n",
       "                                           winery  \n",
       "129966  Dr. H. Thanisch (Erben MÃ¼ller-Burggraef)  \n",
       "129967                                   Citation  \n",
       "129968                            Domaine Gresser  \n",
       "129969                       Domaine Marcel Deiss  \n",
       "129970                           Domaine Schoffit  "
      ]
     },
     "execution_count": 4,
     "metadata": {},
     "output_type": "execute_result"
    }
   ],
   "source": [
    "data.tail()"
   ]
  },
  {
   "cell_type": "code",
   "execution_count": 5,
   "metadata": {},
   "outputs": [
    {
     "name": "stdout",
     "output_type": "stream",
     "text": [
      "        Unnamed: 0      country  \\\n",
      "0                0        Italy   \n",
      "1                1     Portugal   \n",
      "2                2           US   \n",
      "3                3           US   \n",
      "4                4           US   \n",
      "5                5        Spain   \n",
      "6                6        Italy   \n",
      "7                7       France   \n",
      "8                8      Germany   \n",
      "9                9       France   \n",
      "10              10           US   \n",
      "11              11       France   \n",
      "12              12           US   \n",
      "13              13        Italy   \n",
      "14              14           US   \n",
      "15              15      Germany   \n",
      "16              16    Argentina   \n",
      "17              17    Argentina   \n",
      "18              18        Spain   \n",
      "19              19           US   \n",
      "20              20           US   \n",
      "21              21           US   \n",
      "22              22        Italy   \n",
      "23              23           US   \n",
      "24              24        Italy   \n",
      "25              25           US   \n",
      "26              26        Italy   \n",
      "27              27        Italy   \n",
      "28              28        Italy   \n",
      "29              29           US   \n",
      "...            ...          ...   \n",
      "129941      129941           US   \n",
      "129942      129942           US   \n",
      "129943      129943        Italy   \n",
      "129944      129944       Israel   \n",
      "129945      129945           US   \n",
      "129946      129946      Germany   \n",
      "129947      129947        Italy   \n",
      "129948      129948    Argentina   \n",
      "129949      129949           US   \n",
      "129950      129950           US   \n",
      "129951      129951       France   \n",
      "129952      129952           US   \n",
      "129953      129953  New Zealand   \n",
      "129954      129954  New Zealand   \n",
      "129955      129955  New Zealand   \n",
      "129956      129956  New Zealand   \n",
      "129957      129957        Spain   \n",
      "129958      129958  New Zealand   \n",
      "129959      129959       France   \n",
      "129960      129960     Portugal   \n",
      "129961      129961        Italy   \n",
      "129962      129962        Italy   \n",
      "129963      129963       Israel   \n",
      "129964      129964       France   \n",
      "129965      129965       France   \n",
      "129966      129966      Germany   \n",
      "129967      129967           US   \n",
      "129968      129968       France   \n",
      "129969      129969       France   \n",
      "129970      129970       France   \n",
      "\n",
      "                                              description  \\\n",
      "0       Aromas include tropical fruit, broom, brimston...   \n",
      "1       This is ripe and fruity, a wine that is smooth...   \n",
      "2       Tart and snappy, the flavors of lime flesh and...   \n",
      "3       Pineapple rind, lemon pith and orange blossom ...   \n",
      "4       Much like the regular bottling from 2012, this...   \n",
      "5       Blackberry and raspberry aromas show a typical...   \n",
      "6       Here's a bright, informal red that opens with ...   \n",
      "7       This dry and restrained wine offers spice in p...   \n",
      "8       Savory dried thyme notes accent sunnier flavor...   \n",
      "9       This has great depth of flavor with its fresh ...   \n",
      "10      Soft, supple plum envelopes an oaky structure ...   \n",
      "11      This is a dry wine, very spicy, with a tight, ...   \n",
      "12      Slightly reduced, this wine offers a chalky, t...   \n",
      "13      This is dominated by oak and oak-driven aromas...   \n",
      "14      Building on 150 years and six generations of w...   \n",
      "15      Zesty orange peels and apple notes abound in t...   \n",
      "16      Baked plum, molasses, balsamic vinegar and che...   \n",
      "17      Raw black-cherry aromas are direct and simple ...   \n",
      "18      Desiccated blackberry, leather, charred wood a...   \n",
      "19      Red fruit aromas pervade on the nose, with cig...   \n",
      "20      Ripe aromas of dark berries mingle with ample ...   \n",
      "21      A sleek mix of tart berry, stem and herb, alon...   \n",
      "22      Delicate aromas recall white flower and citrus...   \n",
      "23      This wine from the Geneseo district offers aro...   \n",
      "24      Aromas of prune, blackcurrant, toast and oak c...   \n",
      "25      Oak and earth intermingle around robust aromas...   \n",
      "26      Pretty aromas of yellow flower and stone fruit...   \n",
      "27      Aromas recall ripe dark berry, toast and a whi...   \n",
      "28      Aromas suggest mature berry, scorched earth, a...   \n",
      "29      Clarksburg is becoming a haven for Chenin Blan...   \n",
      "...                                                   ...   \n",
      "129941  A Chardonnay with an unusual companion, 8% SÃ©...   \n",
      "129942  This is classic in herbaceous aromas and flavo...   \n",
      "129943  A blend of Nero d'Avola and Syrah, this convey...   \n",
      "129944  Deep garnet in the glass, this has a nose of b...   \n",
      "129945  Hailing from one of the more popular vineyards...   \n",
      "129946  Plump, clingy peach and honey notes are cut wi...   \n",
      "129947  A blend of 65% Cabernet Sauvignon, 30% Merlot ...   \n",
      "129948  Raspberry and cassis aromas are fresh and upri...   \n",
      "129949  There's no bones about the use of oak in this ...   \n",
      "129950  This opens with herbaceous dollops of thyme an...   \n",
      "129951  Hugely spicy this rich wine is described as sw...   \n",
      "129952  This Zinfandel from the eastern section of Nap...   \n",
      "129953  Roughly two-thirds Cabernet and one-third Merl...   \n",
      "129954  One of the more characterful Pinot Gris for th...   \n",
      "129955  Like Dog Point's 2011 Chardonnay, this wine is...   \n",
      "129956  The blend is 44% Merlot, 33% Cabernet Sauvigno...   \n",
      "129957  Lightly baked berry aromas vie for attention w...   \n",
      "129958  This blend of Cabernet Sauvignon-Merlot and Ca...   \n",
      "129959  The granite soil of the Brand Grand Cru vineya...   \n",
      "129960  Fresh and fruity, this is full of red cherry f...   \n",
      "129961  Intense aromas of wild cherry, baking spice, t...   \n",
      "129962  Blackberry, cassis, grilled herb and toasted a...   \n",
      "129963  A bouquet of black cherry, tart cranberry and ...   \n",
      "129964  Initially quite muted, this wine slowly develo...   \n",
      "129965  While it's rich, this beautiful dry wine also ...   \n",
      "129966  Notes of honeysuckle and cantaloupe sweeten th...   \n",
      "129967  Citation is given as much as a decade of bottl...   \n",
      "129968  Well-drained gravel soil gives this wine its c...   \n",
      "129969  A dry style of Pinot Gris, this is crisp with ...   \n",
      "129970  Big, rich and off-dry, this is powered by inte...   \n",
      "\n",
      "                                              designation  points  price  \\\n",
      "0                                           VulkÃ  Bianco      87    NaN   \n",
      "1                                                Avidagos      87   15.0   \n",
      "2                                                     NaN      87   14.0   \n",
      "3                                    Reserve Late Harvest      87   13.0   \n",
      "4                      Vintner's Reserve Wild Child Block      87   65.0   \n",
      "5                                            Ars In Vitro      87   15.0   \n",
      "6                                                 Belsito      87   16.0   \n",
      "7                                                     NaN      87   24.0   \n",
      "8                                                   Shine      87   12.0   \n",
      "9                                             Les Natures      87   27.0   \n",
      "10                                        Mountain CuvÃ©e      87   19.0   \n",
      "11                                                    NaN      87   30.0   \n",
      "12                                                    NaN      87   34.0   \n",
      "13                                                  Rosso      87    NaN   \n",
      "14                                                    NaN      87   12.0   \n",
      "15                                                  Devon      87   24.0   \n",
      "16                                                  Felix      87   30.0   \n",
      "17                                    Winemaker Selection      87   13.0   \n",
      "18      Vendimia Seleccionada Finca Valdelayegua Singl...      87   28.0   \n",
      "19                                                    NaN      87   32.0   \n",
      "20                                          Vin de Maison      87   23.0   \n",
      "21                                                    NaN      87   20.0   \n",
      "22                                              Ficiligno      87   19.0   \n",
      "23                                    Signature Selection      87   22.0   \n",
      "24                                                  Aynat      87   35.0   \n",
      "25                                    King Ridge Vineyard      87   69.0   \n",
      "26                                                 Dalila      87   13.0   \n",
      "27                                                    NaN      87   10.0   \n",
      "28                                     Mascaria Barricato      87   17.0   \n",
      "29                                                    NaN      86   16.0   \n",
      "...                                                   ...     ...    ...   \n",
      "129941                                                NaN      90   20.0   \n",
      "129942                                                NaN      90   35.0   \n",
      "129943                                           AdÃ¨nzia      90   29.0   \n",
      "129944                 Special Reserve Winemakers' Choice      90   25.0   \n",
      "129945                   Jurassic Park Vineyard Old Vines      90   20.0   \n",
      "129946                                                Dom      90   17.0   \n",
      "129947                                           Symposio      90   20.0   \n",
      "129948                                           Pedernal      90   43.0   \n",
      "129949                                   Barrel Fermented      90   35.0   \n",
      "129950                                      Blocks 7 & 22      90   35.0   \n",
      "129951                                             Holder      90   30.0   \n",
      "129952                                                NaN      90   22.0   \n",
      "129953                                            Elspeth      90   25.0   \n",
      "129954                                      Single Estate      90   15.0   \n",
      "129955                                                NaN      90   40.0   \n",
      "129956  Gimblett Gravels Merlot-Cabernet Sauvignon-Malbec      90   19.0   \n",
      "129957                                            Crianza      90   17.0   \n",
      "129958                                           Irongate      90   35.0   \n",
      "129959                                    Brand Grand Cru      90   57.0   \n",
      "129960                                           VÃ©rtice      90   48.0   \n",
      "129961                                                NaN      90   30.0   \n",
      "129962                         SÃ gana Tenuta San Giacomo      90   40.0   \n",
      "129963                                           Oak Aged      90   20.0   \n",
      "129964                      Domaine Saint-RÃ©my Herrenweg      90    NaN   \n",
      "129965                       Seppi Landmann VallÃ©e Noble      90   28.0   \n",
      "129966            Brauneberger Juffer-Sonnenuhr SpÃ¤tlese      90   28.0   \n",
      "129967                                                NaN      90   75.0   \n",
      "129968                                              Kritt      90   30.0   \n",
      "129969                                                NaN      90   32.0   \n",
      "129970                     Lieu-dit Harth CuvÃ©e Caroline      90   21.0   \n",
      "\n",
      "                 province               region_1           region_2  \\\n",
      "0       Sicily & Sardinia                   Etna                NaN   \n",
      "1                   Douro                    NaN                NaN   \n",
      "2                  Oregon      Willamette Valley  Willamette Valley   \n",
      "3                Michigan    Lake Michigan Shore                NaN   \n",
      "4                  Oregon      Willamette Valley  Willamette Valley   \n",
      "5          Northern Spain                Navarra                NaN   \n",
      "6       Sicily & Sardinia               Vittoria                NaN   \n",
      "7                  Alsace                 Alsace                NaN   \n",
      "8             Rheinhessen                    NaN                NaN   \n",
      "9                  Alsace                 Alsace                NaN   \n",
      "10             California            Napa Valley               Napa   \n",
      "11                 Alsace                 Alsace                NaN   \n",
      "12             California       Alexander Valley             Sonoma   \n",
      "13      Sicily & Sardinia                   Etna                NaN   \n",
      "14             California          Central Coast      Central Coast   \n",
      "15                  Mosel                    NaN                NaN   \n",
      "16                  Other               Cafayate                NaN   \n",
      "17       Mendoza Province                Mendoza                NaN   \n",
      "18         Northern Spain       Ribera del Duero                NaN   \n",
      "19               Virginia               Virginia                NaN   \n",
      "20               Virginia               Virginia                NaN   \n",
      "21                 Oregon                 Oregon       Oregon Other   \n",
      "22      Sicily & Sardinia                Sicilia                NaN   \n",
      "23             California            Paso Robles      Central Coast   \n",
      "24      Sicily & Sardinia                Sicilia                NaN   \n",
      "25             California           Sonoma Coast             Sonoma   \n",
      "26      Sicily & Sardinia        Terre Siciliane                NaN   \n",
      "27      Sicily & Sardinia        Terre Siciliane                NaN   \n",
      "28      Sicily & Sardinia  Cerasuolo di Vittoria                NaN   \n",
      "29             California             Clarksburg     Central Valley   \n",
      "...                   ...                    ...                ...   \n",
      "129941         California       Mendocino County                NaN   \n",
      "129942         California          Sonoma County             Sonoma   \n",
      "129943  Sicily & Sardinia                Sicilia                NaN   \n",
      "129944            Galilee                    NaN                NaN   \n",
      "129945         California      Santa Ynez Valley      Central Coast   \n",
      "129946              Mosel                    NaN                NaN   \n",
      "129947  Sicily & Sardinia        Terre Siciliane                NaN   \n",
      "129948              Other               San Juan                NaN   \n",
      "129949         California            Napa Valley               Napa   \n",
      "129950         California            Napa Valley               Napa   \n",
      "129951             Alsace                 Alsace                NaN   \n",
      "129952         California          Chiles Valley               Napa   \n",
      "129953        Hawke's Bay                    NaN                NaN   \n",
      "129954        Marlborough                    NaN                NaN   \n",
      "129955        Marlborough                    NaN                NaN   \n",
      "129956        Hawke's Bay                    NaN                NaN   \n",
      "129957     Northern Spain                  Rioja                NaN   \n",
      "129958        Hawke's Bay                    NaN                NaN   \n",
      "129959             Alsace                 Alsace                NaN   \n",
      "129960              Douro                    NaN                NaN   \n",
      "129961  Sicily & Sardinia                Sicilia                NaN   \n",
      "129962  Sicily & Sardinia                Sicilia                NaN   \n",
      "129963            Galilee                    NaN                NaN   \n",
      "129964             Alsace                 Alsace                NaN   \n",
      "129965             Alsace                 Alsace                NaN   \n",
      "129966              Mosel                    NaN                NaN   \n",
      "129967             Oregon                 Oregon       Oregon Other   \n",
      "129968             Alsace                 Alsace                NaN   \n",
      "129969             Alsace                 Alsace                NaN   \n",
      "129970             Alsace                 Alsace                NaN   \n",
      "\n",
      "               taster_name taster_twitter_handle  \\\n",
      "0          Kerin OâKeefe          @kerinokeefe   \n",
      "1               Roger Voss            @vossroger   \n",
      "2             Paul Gregutt          @paulgwineÂ    \n",
      "3       Alexander Peartree                   NaN   \n",
      "4             Paul Gregutt          @paulgwineÂ    \n",
      "5        Michael Schachner           @wineschach   \n",
      "6          Kerin OâKeefe          @kerinokeefe   \n",
      "7               Roger Voss            @vossroger   \n",
      "8       Anna Lee C. Iijima                   NaN   \n",
      "9               Roger Voss            @vossroger   \n",
      "10          Virginie Boone               @vboone   \n",
      "11              Roger Voss            @vossroger   \n",
      "12          Virginie Boone               @vboone   \n",
      "13         Kerin OâKeefe          @kerinokeefe   \n",
      "14           Matt Kettmann         @mattkettmann   \n",
      "15      Anna Lee C. Iijima                   NaN   \n",
      "16       Michael Schachner           @wineschach   \n",
      "17       Michael Schachner           @wineschach   \n",
      "18       Michael Schachner           @wineschach   \n",
      "19      Alexander Peartree                   NaN   \n",
      "20      Alexander Peartree                   NaN   \n",
      "21            Paul Gregutt          @paulgwineÂ    \n",
      "22         Kerin OâKeefe          @kerinokeefe   \n",
      "23           Matt Kettmann         @mattkettmann   \n",
      "24         Kerin OâKeefe          @kerinokeefe   \n",
      "25          Virginie Boone               @vboone   \n",
      "26         Kerin OâKeefe          @kerinokeefe   \n",
      "27         Kerin OâKeefe          @kerinokeefe   \n",
      "28         Kerin OâKeefe          @kerinokeefe   \n",
      "29          Virginie Boone               @vboone   \n",
      "...                    ...                   ...   \n",
      "129941      Virginie Boone               @vboone   \n",
      "129942      Virginie Boone               @vboone   \n",
      "129943     Kerin OâKeefe          @kerinokeefe   \n",
      "129944       Mike DeSimone        @worldwineguys   \n",
      "129945       Matt Kettmann         @mattkettmann   \n",
      "129946  Anna Lee C. Iijima                   NaN   \n",
      "129947     Kerin OâKeefe          @kerinokeefe   \n",
      "129948   Michael Schachner           @wineschach   \n",
      "129949      Virginie Boone               @vboone   \n",
      "129950      Virginie Boone               @vboone   \n",
      "129951          Roger Voss            @vossroger   \n",
      "129952      Virginie Boone               @vboone   \n",
      "129953      Joe Czerwinski                @JoeCz   \n",
      "129954      Joe Czerwinski                @JoeCz   \n",
      "129955      Joe Czerwinski                @JoeCz   \n",
      "129956      Joe Czerwinski                @JoeCz   \n",
      "129957   Michael Schachner           @wineschach   \n",
      "129958      Joe Czerwinski                @JoeCz   \n",
      "129959          Roger Voss            @vossroger   \n",
      "129960          Roger Voss            @vossroger   \n",
      "129961     Kerin OâKeefe          @kerinokeefe   \n",
      "129962     Kerin OâKeefe          @kerinokeefe   \n",
      "129963       Mike DeSimone        @worldwineguys   \n",
      "129964          Roger Voss            @vossroger   \n",
      "129965          Roger Voss            @vossroger   \n",
      "129966  Anna Lee C. Iijima                   NaN   \n",
      "129967        Paul Gregutt          @paulgwineÂ    \n",
      "129968          Roger Voss            @vossroger   \n",
      "129969          Roger Voss            @vossroger   \n",
      "129970          Roger Voss            @vossroger   \n",
      "\n",
      "                                                    title  \\\n",
      "0                      Nicosia 2013 VulkÃ  Bianco  (Etna)   \n",
      "1           Quinta dos Avidagos 2011 Avidagos Red (Douro)   \n",
      "2           Rainstorm 2013 Pinot Gris (Willamette Valley)   \n",
      "3       St. Julian 2013 Reserve Late Harvest Riesling ...   \n",
      "4       Sweet Cheeks 2012 Vintner's Reserve Wild Child...   \n",
      "5       Tandem 2011 Ars In Vitro Tempranillo-Merlot (N...   \n",
      "6        Terre di Giurfo 2013 Belsito Frappato (Vittoria)   \n",
      "7                   Trimbach 2012 Gewurztraminer (Alsace)   \n",
      "8       Heinz Eifel 2013 Shine GewÃ¼rztraminer (Rheinh...   \n",
      "9       Jean-Baptiste Adam 2012 Les Natures Pinot Gris...   \n",
      "10      Kirkland Signature 2011 Mountain CuvÃ©e Cabern...   \n",
      "11                Leon Beyer 2012 Gewurztraminer (Alsace)   \n",
      "12      Louis M. Martini 2012 Cabernet Sauvignon (Alex...   \n",
      "13                 Masseria Setteporte 2012 Rosso  (Etna)   \n",
      "14               Mirassou 2012 Chardonnay (Central Coast)   \n",
      "15           Richard BÃ¶cking 2013 Devon Riesling (Mosel)   \n",
      "16             Felix Lavaque 2010 Felix Malbec (Cafayate)   \n",
      "17      Gaucho Andino 2011 Winemaker Selection Malbec ...   \n",
      "18      Pradorey 2010 Vendimia Seleccionada Finca Vald...   \n",
      "19                  QuiÃ©vremont 2012 Meritage (Virginia)   \n",
      "20         QuiÃ©vremont 2012 Vin de Maison Red (Virginia)   \n",
      "21                       Acrobat 2013 Pinot Noir (Oregon)   \n",
      "22      Baglio di Pianetto 2007 Ficiligno White (Sicilia)   \n",
      "23      Bianchi 2011 Signature Selection Merlot (Paso ...   \n",
      "24           CanicattÃ¬ 2009 Aynat Nero d'Avola (Sicilia)   \n",
      "25      Castello di Amorosa 2011 King Ridge Vineyard P...   \n",
      "26           Stemmari 2013 Dalila White (Terre Siciliane)   \n",
      "27           Stemmari 2013 Nero d'Avola (Terre Siciliane)   \n",
      "28      Terre di Giurfo 2011 Mascaria Barricato  (Cera...   \n",
      "29      Clarksburg Wine Company 2010 Chenin Blanc (Cla...   \n",
      "...                                                   ...   \n",
      "129941         Apriori 2013 Chardonnay (Mendocino County)   \n",
      "129942   Arrowood 2010 Cabernet Sauvignon (Sonoma County)   \n",
      "129943  Baglio del Cristo di Campobello 2012 AdÃ¨nzia ...   \n",
      "129944  Barkan 2011 Special Reserve Winemakers' Choice...   \n",
      "129945  Birichino 2013 Jurassic Park Vineyard Old Vine...   \n",
      "129946  BischÃ¶fliche WeingÃ¼ter Trier 2013 Dom Riesli...   \n",
      "129947  Feudo Principi di Butera 2012 Symposio Red (Te...   \n",
      "129948    Finca Las Moras 2010 Pedernal Malbec (San Juan)   \n",
      "129949  Flora Springs 2013 Barrel Fermented Chardonnay...   \n",
      "129950  Hendry 2012 Blocks 7 & 22 Zinfandel (Napa Valley)   \n",
      "129951  Henri Schoenheitz 2012 Holder Gewurztraminer (...   \n",
      "129952             Houdini 2011 Zinfandel (Chiles Valley)   \n",
      "129953  Mills Reef 2011 Elspeth Cabernet Merlot (Hawke...   \n",
      "129954    Ara 2013 Single Estate Pinot Gris (Marlborough)   \n",
      "129955            Dog Point 2012 Chardonnay (Marlborough)   \n",
      "129956  Esk Valley 2011 Gimblett Gravels Merlot-Cabern...   \n",
      "129957          ViÃ±edos Real Rubio 2010 Crianza  (Rioja)   \n",
      "129958             Babich 2010 Irongate Red (Hawke's Bay)   \n",
      "129959  Cave de Turckheim 2010 Brand Grand Cru Pinot G...   \n",
      "129960  Caves Transmontanas 2006 VÃ©rtice Pinot Noir (...   \n",
      "129961                        COS 2013 Frappato (Sicilia)   \n",
      "129962  Cusumano 2012 SÃ gana Tenuta San Giacomo Nero ...   \n",
      "129963  Dalton 2012 Oak Aged Cabernet Sauvignon (Galilee)   \n",
      "129964  Domaine Ehrhart 2013 Domaine Saint-RÃ©my Herre...   \n",
      "129965  Domaine RieflÃ©-Landmann 2013 Seppi Landmann V...   \n",
      "129966  Dr. H. Thanisch (Erben MÃ¼ller-Burggraef) 2013...   \n",
      "129967                  Citation 2004 Pinot Noir (Oregon)   \n",
      "129968  Domaine Gresser 2013 Kritt Gewurztraminer (Als...   \n",
      "129969      Domaine Marcel Deiss 2012 Pinot Gris (Alsace)   \n",
      "129970  Domaine Schoffit 2012 Lieu-dit Harth CuvÃ©e Ca...   \n",
      "\n",
      "                         variety                                     winery  \n",
      "0                    White Blend                                    Nicosia  \n",
      "1                 Portuguese Red                        Quinta dos Avidagos  \n",
      "2                     Pinot Gris                                  Rainstorm  \n",
      "3                       Riesling                                 St. Julian  \n",
      "4                     Pinot Noir                               Sweet Cheeks  \n",
      "5             Tempranillo-Merlot                                     Tandem  \n",
      "6                       Frappato                            Terre di Giurfo  \n",
      "7                GewÃ¼rztraminer                                   Trimbach  \n",
      "8                GewÃ¼rztraminer                                Heinz Eifel  \n",
      "9                     Pinot Gris                         Jean-Baptiste Adam  \n",
      "10            Cabernet Sauvignon                         Kirkland Signature  \n",
      "11               GewÃ¼rztraminer                                 Leon Beyer  \n",
      "12            Cabernet Sauvignon                           Louis M. Martini  \n",
      "13             Nerello Mascalese                        Masseria Setteporte  \n",
      "14                    Chardonnay                                   Mirassou  \n",
      "15                      Riesling                           Richard BÃ¶cking  \n",
      "16                        Malbec                              Felix Lavaque  \n",
      "17                        Malbec                              Gaucho Andino  \n",
      "18             Tempranillo Blend                                   Pradorey  \n",
      "19                      Meritage                               QuiÃ©vremont  \n",
      "20                     Red Blend                               QuiÃ©vremont  \n",
      "21                    Pinot Noir                                    Acrobat  \n",
      "22                   White Blend                         Baglio di Pianetto  \n",
      "23                        Merlot                                    Bianchi  \n",
      "24                  Nero d'Avola                                 CanicattÃ¬  \n",
      "25                    Pinot Noir                        Castello di Amorosa  \n",
      "26                   White Blend                                   Stemmari  \n",
      "27                  Nero d'Avola                                   Stemmari  \n",
      "28                     Red Blend                            Terre di Giurfo  \n",
      "29                  Chenin Blanc                    Clarksburg Wine Company  \n",
      "...                          ...                                        ...  \n",
      "129941                Chardonnay                                    Apriori  \n",
      "129942        Cabernet Sauvignon                                   Arrowood  \n",
      "129943                 Red Blend            Baglio del Cristo di Campobello  \n",
      "129944                    Shiraz                                     Barkan  \n",
      "129945              Chenin Blanc                                  Birichino  \n",
      "129946                  Riesling             BischÃ¶fliche WeingÃ¼ter Trier  \n",
      "129947                 Red Blend                   Feudo Principi di Butera  \n",
      "129948                    Malbec                            Finca Las Moras  \n",
      "129949                Chardonnay                              Flora Springs  \n",
      "129950                 Zinfandel                                     Hendry  \n",
      "129951           GewÃ¼rztraminer                          Henri Schoenheitz  \n",
      "129952                 Zinfandel                                    Houdini  \n",
      "129953           Cabernet Merlot                                 Mills Reef  \n",
      "129954                Pinot Gris                                        Ara  \n",
      "129955                Chardonnay                                  Dog Point  \n",
      "129956  Bordeaux-style Red Blend                                 Esk Valley  \n",
      "129957         Tempranillo Blend                        ViÃ±edos Real Rubio  \n",
      "129958  Bordeaux-style Red Blend                                     Babich  \n",
      "129959                Pinot Gris                          Cave de Turckheim  \n",
      "129960                Pinot Noir                        Caves Transmontanas  \n",
      "129961                  Frappato                                        COS  \n",
      "129962              Nero d'Avola                                   Cusumano  \n",
      "129963        Cabernet Sauvignon                                     Dalton  \n",
      "129964           GewÃ¼rztraminer                            Domaine Ehrhart  \n",
      "129965                Pinot Gris                   Domaine RieflÃ©-Landmann  \n",
      "129966                  Riesling  Dr. H. Thanisch (Erben MÃ¼ller-Burggraef)  \n",
      "129967                Pinot Noir                                   Citation  \n",
      "129968           GewÃ¼rztraminer                            Domaine Gresser  \n",
      "129969                Pinot Gris                       Domaine Marcel Deiss  \n",
      "129970           GewÃ¼rztraminer                           Domaine Schoffit  \n",
      "\n",
      "[129971 rows x 14 columns]\n"
     ]
    }
   ],
   "source": [
    "df = pd.DataFrame(data)\n",
    "print (df)"
   ]
  },
  {
   "cell_type": "markdown",
   "metadata": {},
   "source": [
    "# Lets find out the mean of the points"
   ]
  },
  {
   "cell_type": "code",
   "execution_count": 6,
   "metadata": {},
   "outputs": [
    {
     "data": {
      "text/plain": [
       "88.44713820775404"
      ]
     },
     "execution_count": 6,
     "metadata": {},
     "output_type": "execute_result"
    }
   ],
   "source": [
    "data['points'].mean() #Mean of the dataframe:"
   ]
  },
  {
   "cell_type": "markdown",
   "metadata": {},
   "source": [
    "# Lets calculate the median of the specific Column¶"
   ]
  },
  {
   "cell_type": "code",
   "execution_count": 7,
   "metadata": {},
   "outputs": [
    {
     "data": {
      "text/plain": [
       "88.0"
      ]
     },
     "execution_count": 7,
     "metadata": {},
     "output_type": "execute_result"
    }
   ],
   "source": [
    "data['points'].median()"
   ]
  },
  {
   "cell_type": "markdown",
   "metadata": {},
   "source": [
    "# Lets calculate the mode of the specific column"
   ]
  },
  {
   "cell_type": "code",
   "execution_count": 7,
   "metadata": {},
   "outputs": [
    {
     "data": {
      "text/plain": [
       "0    88\n",
       "dtype: int64"
      ]
     },
     "execution_count": 7,
     "metadata": {},
     "output_type": "execute_result"
    }
   ],
   "source": [
    "data['points'].mode()"
   ]
  },
  {
   "cell_type": "markdown",
   "metadata": {},
   "source": [
    "# Lets calculate the standard deviation of a data frame¶"
   ]
  },
  {
   "cell_type": "code",
   "execution_count": 8,
   "metadata": {},
   "outputs": [
    {
     "data": {
      "text/plain": [
       "Unnamed: 0    37519.540256\n",
       "points            3.039730\n",
       "price            41.022218\n",
       "dtype: float64"
      ]
     },
     "execution_count": 8,
     "metadata": {},
     "output_type": "execute_result"
    }
   ],
   "source": [
    "df.std()"
   ]
  },
  {
   "cell_type": "markdown",
   "metadata": {},
   "source": [
    "# Lets calculate the standard deviation of the data frame column wise"
   ]
  },
  {
   "cell_type": "code",
   "execution_count": 9,
   "metadata": {},
   "outputs": [
    {
     "data": {
      "text/plain": [
       "Unnamed: 0    37519.540256\n",
       "points            3.039730\n",
       "price            41.022218\n",
       "dtype: float64"
      ]
     },
     "execution_count": 9,
     "metadata": {},
     "output_type": "execute_result"
    }
   ],
   "source": [
    "df.std(axis=0)"
   ]
  },
  {
   "cell_type": "markdown",
   "metadata": {},
   "source": [
    "# In class lab exercise :\n",
    "Calculate the standard deviation of the data frame row wise?"
   ]
  },
  {
   "cell_type": "markdown",
   "metadata": {},
   "source": [
    "# Lets calculate the standard deviation of a specefic column \"points\""
   ]
  },
  {
   "cell_type": "code",
   "execution_count": 10,
   "metadata": {},
   "outputs": [
    {
     "data": {
      "text/plain": [
       "3.0397302029162336"
      ]
     },
     "execution_count": 10,
     "metadata": {},
     "output_type": "execute_result"
    }
   ],
   "source": [
    "df.loc[:,\"points\"].std()"
   ]
  },
  {
   "cell_type": "markdown",
   "metadata": {},
   "source": [
    "# In class lab exercise :\n",
    "Calculate the standard deviation of a specefic column \"price\"?"
   ]
  },
  {
   "cell_type": "markdown",
   "metadata": {},
   "source": [
    "# Lets check for the zscore"
   ]
  },
  {
   "cell_type": "code",
   "execution_count": 6,
   "metadata": {},
   "outputs": [],
   "source": [
    "from scipy.stats import zscore"
   ]
  },
  {
   "cell_type": "code",
   "execution_count": 18,
   "metadata": {},
   "outputs": [
    {
     "data": {
      "text/plain": [
       "array([-0.47607639, -0.47607639, -0.47607639, ...,  0.5108571 ,\n",
       "        0.5108571 ,  0.5108571 ])"
      ]
     },
     "execution_count": 18,
     "metadata": {},
     "output_type": "execute_result"
    }
   ],
   "source": [
    "zscore(df.loc[:,\"points\"], axis=0)"
   ]
  },
  {
   "cell_type": "code",
   "execution_count": 20,
   "metadata": {},
   "outputs": [
    {
     "data": {
      "text/plain": [
       "Unnamed: 0    1.407716e+09\n",
       "points        9.239960e+00\n",
       "price         1.682822e+03\n",
       "dtype: float64"
      ]
     },
     "execution_count": 20,
     "metadata": {},
     "output_type": "execute_result"
    }
   ],
   "source": [
    "df.var()"
   ]
  },
  {
   "cell_type": "markdown",
   "metadata": {},
   "source": [
    "# In class lab exercise :\n",
    "Calculate the column and row variance of the data frame?"
   ]
  },
  {
   "cell_type": "markdown",
   "metadata": {},
   "source": [
    "# Lets calculate the variance of a specefic column \"points\""
   ]
  },
  {
   "cell_type": "code",
   "execution_count": 21,
   "metadata": {},
   "outputs": [
    {
     "data": {
      "text/plain": [
       "9.239959706521168"
      ]
     },
     "execution_count": 21,
     "metadata": {},
     "output_type": "execute_result"
    }
   ],
   "source": [
    "df.loc[:,\"points\"].var()"
   ]
  },
  {
   "cell_type": "markdown",
   "metadata": {},
   "source": [
    "# In class lab exercise :\n",
    "Calculate the variance of a specefic column \"price\"?"
   ]
  },
  {
   "cell_type": "markdown",
   "metadata": {},
   "source": [
    "# A complete measures of wine price"
   ]
  },
  {
   "cell_type": "code",
   "execution_count": 22,
   "metadata": {},
   "outputs": [
    {
     "name": "stdout",
     "output_type": "stream",
     "text": [
      "Min price : 4.0\n",
      "Max price : 3300.0\n",
      "price range : 3296.0\n",
      "25 percentile : 17.0\n",
      "50 percentile : 25.0\n",
      "75 percentile : 42.0\n",
      "Variance price : 1682.8223424080645\n",
      "Standard deviation price : 41.02221766808889\n"
     ]
    }
   ],
   "source": [
    "# dispersion measures\n",
    "print('Min price : {0}'.format(df.price.min())) # minimum\n",
    "print('Max price : {0}'.format(df.price.max())) # maximum\n",
    "print('price range : {0}'.format(df.price.max()  - df.price.min())) # range\n",
    "print('25 percentile : {0}'.format(df.price.quantile(.25))) # 25 percentile\n",
    "print('50 percentile : {0}'.format(df.price.quantile(.5))) # 50 percentile\n",
    "print('75 percentile : {0}'.format(df.price.quantile(.75))) # 75 percentile\n",
    "print('Variance price : {0}'.format(df.price.var())) # variance\n",
    "print('Standard deviation price : {0}'.format(df.price.std())) # standard deviation"
   ]
  },
  {
   "cell_type": "markdown",
   "metadata": {},
   "source": [
    "# Lets check the skewness of the data¶"
   ]
  },
  {
   "cell_type": "code",
   "execution_count": 24,
   "metadata": {},
   "outputs": [
    {
     "name": "stdout",
     "output_type": "stream",
     "text": [
      "skewness for points : 0.05\n"
     ]
    }
   ],
   "source": [
    "print('skewness for points : {0:.2f}'.format(df.points.skew()))"
   ]
  },
  {
   "cell_type": "code",
   "execution_count": 25,
   "metadata": {},
   "outputs": [
    {
     "name": "stdout",
     "output_type": "stream",
     "text": [
      "skewness for price : 18.00\n"
     ]
    }
   ],
   "source": [
    "print('skewness for price : {0:.2f}'.format(df.price.skew()))"
   ]
  },
  {
   "cell_type": "markdown",
   "metadata": {},
   "source": [
    "# Lets check the skewness of the data"
   ]
  },
  {
   "cell_type": "code",
   "execution_count": 27,
   "metadata": {},
   "outputs": [
    {
     "name": "stdout",
     "output_type": "stream",
     "text": [
      "kurtosis for price : 829.52\n"
     ]
    }
   ],
   "source": [
    "print('kurtosis for price : {0:.2f}'.format(df.price.kurtosis()))"
   ]
  },
  {
   "cell_type": "code",
   "execution_count": 28,
   "metadata": {},
   "outputs": [
    {
     "name": "stdout",
     "output_type": "stream",
     "text": [
      "kurtosis for points : -0.30\n"
     ]
    }
   ],
   "source": [
    "print('kurtosis for points : {0:.2f}'.format(df.points.kurtosis()))"
   ]
  },
  {
   "cell_type": "markdown",
   "metadata": {},
   "source": [
    "# Visualization: Seaborne and matplotlib"
   ]
  },
  {
   "cell_type": "code",
   "execution_count": null,
   "metadata": {},
   "outputs": [],
   "source": [
    "import seaborn as sns\n",
    "import matplotlib.pyplot as plt"
   ]
  },
  {
   "cell_type": "raw",
   "metadata": {},
   "source": [
    "Lets create a small data using numpy array"
   ]
  },
  {
   "cell_type": "code",
   "execution_count": 32,
   "metadata": {},
   "outputs": [],
   "source": [
    "import numpy as np\n",
    "x = np.linspace(0, 6, 11)\n",
    "y = x ** 2"
   ]
  },
  {
   "cell_type": "code",
   "execution_count": 33,
   "metadata": {},
   "outputs": [
    {
     "data": {
      "text/plain": [
       "array([0. , 0.6, 1.2, 1.8, 2.4, 3. , 3.6, 4.2, 4.8, 5.4, 6. ])"
      ]
     },
     "execution_count": 33,
     "metadata": {},
     "output_type": "execute_result"
    }
   ],
   "source": [
    "x"
   ]
  },
  {
   "cell_type": "code",
   "execution_count": 34,
   "metadata": {},
   "outputs": [
    {
     "data": {
      "text/plain": [
       "array([ 0.  ,  0.36,  1.44,  3.24,  5.76,  9.  , 12.96, 17.64, 23.04,\n",
       "       29.16, 36.  ])"
      ]
     },
     "execution_count": 34,
     "metadata": {},
     "output_type": "execute_result"
    }
   ],
   "source": [
    "y"
   ]
  },
  {
   "cell_type": "markdown",
   "metadata": {},
   "source": [
    "# Line Plot"
   ]
  },
  {
   "cell_type": "code",
   "execution_count": 35,
   "metadata": {},
   "outputs": [
    {
     "data": {
      "image/png": "[encoded data removed]",
      "text/plain": [
       "<Figure size 432x288 with 1 Axes>"
      ]
     },
     "metadata": {},
     "output_type": "display_data"
    }
   ],
   "source": [
    "plt.plot(x, y) \n",
    "plt.xlabel('X Axis')\n",
    "plt.ylabel('Y Axis')\n",
    "plt.show()"
   ]
  },
  {
   "cell_type": "markdown",
   "metadata": {},
   "source": [
    "# Histogram"
   ]
  },
  {
   "cell_type": "code",
   "execution_count": 45,
   "metadata": {},
   "outputs": [
    {
     "data": {
      "text/plain": [
       "(array([ 8., 11.,  9.,  7., 12., 11., 12., 12.,  6., 12.]),\n",
       " array([  1. , 100.3, 199.6, 298.9, 398.2, 497.5, 596.8, 696.1, 795.4,\n",
       "        894.7, 994. ]),\n",
       " <a list of 10 Patch objects>)"
      ]
     },
     "execution_count": 45,
     "metadata": {},
     "output_type": "execute_result"
    },
    {
     "data": {
      "image/png": "[encoded data removed]",
      "text/plain": [
       "<Figure size 432x288 with 1 Axes>"
      ]
     },
     "metadata": {},
     "output_type": "display_data"
    }
   ],
   "source": [
    "from random import sample\n",
    "data = sample(range(1, 1000), 100)\n",
    "plt.hist(data)"
   ]
  },
  {
   "cell_type": "code",
   "execution_count": 46,
   "metadata": {},
   "outputs": [
    {
     "data": {
      "text/plain": [
       "(array([ 8., 11.,  9.,  7., 12., 11., 12., 12.,  6., 12.]),\n",
       " array([  1. , 100.3, 199.6, 298.9, 398.2, 497.5, 596.8, 696.1, 795.4,\n",
       "        894.7, 994. ]),\n",
       " <a list of 10 Patch objects>)"
      ]
     },
     "execution_count": 46,
     "metadata": {},
     "output_type": "execute_result"
    },
    {
     "data": {
      "image/png": "[encoded data removed]",
      "text/plain": [
       "<Figure size 432x288 with 1 Axes>"
      ]
     },
     "metadata": {},
     "output_type": "display_data"
    }
   ],
   "source": [
    "# Plot with a whitegrid style\n",
    "sns.set()\n",
    "sns.set_style('whitegrid')\n",
    "plt.hist(data)"
   ]
  },
  {
   "cell_type": "markdown",
   "metadata": {},
   "source": [
    "# Lets plot the same histogram with a default seaborn style¶"
   ]
  },
  {
   "cell_type": "code",
   "execution_count": 48,
   "metadata": {},
   "outputs": [
    {
     "data": {
      "image/png": "[encoded data removed]",
      "text/plain": [
       "<Figure size 432x288 with 1 Axes>"
      ]
     },
     "metadata": {},
     "output_type": "display_data"
    },
    {
     "data": {
      "text/plain": [
       "<Figure size 432x288 with 0 Axes>"
      ]
     },
     "metadata": {},
     "output_type": "display_data"
    }
   ],
   "source": [
    "sns.set()\n",
    "plt.hist(data)\n",
    "plt.show()\n",
    "plt.clf()"
   ]
  },
  {
   "cell_type": "code",
   "execution_count": 43,
   "metadata": {},
   "outputs": [
    {
     "data": {
      "image/png": "[encoded data removed]",
      "text/plain": [
       "<Figure size 432x288 with 1 Axes>"
      ]
     },
     "metadata": {},
     "output_type": "display_data"
    },
    {
     "data": {
      "text/plain": [
       "<Figure size 432x288 with 0 Axes>"
      ]
     },
     "metadata": {},
     "output_type": "display_data"
    }
   ],
   "source": [
    "sns.boxplot(data=data)\n",
    "plt.show()\n",
    "plt.clf()"
   ]
  },
  {
   "cell_type": "code",
   "execution_count": 38,
   "metadata": {},
   "outputs": [
    {
     "data": {
      "text/plain": [
       "<matplotlib.collections.PathCollection at 0x14d74bbd198>"
      ]
     },
     "execution_count": 38,
     "metadata": {},
     "output_type": "execute_result"
    },
    {
     "data": {
      "image/png": "[encoded data removed]",
      "text/plain": [
       "<Figure size 432x288 with 1 Axes>"
      ]
     },
     "metadata": {},
     "output_type": "display_data"
    }
   ],
   "source": [
    "plt.scatter(x,y)"
   ]
  },
  {
   "cell_type": "markdown",
   "metadata": {},
   "source": [
    "# Take home assignment \n",
    "\n",
    "Perform the summary statistics, required plots using seaborn and matplotlib packages for the given data set.\n",
    "\n",
    "    Data set Given - Class grades\n"
   ]
  }
 ],
 "metadata": {
  "kernelspec": {
   "display_name": "Python 3",
   "language": "python",
   "name": "python3"
  },
  "language_info": {
   "codemirror_mode": {
    "name": "ipython",
    "version": 3
   },
   "file_extension": ".py",
   "mimetype": "text/x-python",
   "name": "python",
   "nbconvert_exporter": "python",
   "pygments_lexer": "ipython3",
   "version": "3.7.0"
  }
 },
 "nbformat": 4,
 "nbformat_minor": 2
}
